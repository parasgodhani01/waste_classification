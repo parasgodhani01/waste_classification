{
  "cells": [
    {
      "cell_type": "markdown",
      "metadata": {
        "id": "33v2B9OXPddi"
      },
      "source": [
        "### **Dataset from huggingface**"
      ]
    },
    {
      "cell_type": "code",
      "execution_count": 2,
      "metadata": {
        "colab": {
          "base_uri": "https://localhost:8080/"
        },
        "id": "lW1EbXQI69DH",
        "outputId": "06a42ca2-d0f3-40d9-9011-bf6cc26efeb7"
      },
      "outputs": [
        {
          "name": "stdout",
          "output_type": "stream",
          "text": [
            "No GPU detected. Using CPU.\n"
          ]
        }
      ],
      "source": [
        "import tensorflow as tf\n",
        "import warnings\n",
        "warnings.filterwarnings('ignore')\n",
        "\n",
        "gpus = tf.config.list_physical_devices('GPU')\n",
        "if gpus:\n",
        "    try:\n",
        "        for gpu in gpus:\n",
        "            tf.config.experimental.set_memory_growth(gpu, True)\n",
        "        print(f\"GPUs detected: {[gpu.name for gpu in gpus]}\")\n",
        "    except RuntimeError as e:\n",
        "        print(f\"Error setting up GPU memory growth: {e}\")\n",
        "else:\n",
        "    print(\"No GPU detected. Using CPU.\")\n"
      ]
    },
    {
      "cell_type": "code",
      "execution_count": null,
      "metadata": {
        "colab": {
          "base_uri": "https://localhost:8080/"
        },
        "id": "meh2B8F1PoFg",
        "outputId": "af013b16-ea16-4ff6-a656-686f9cbb316c"
      },
      "outputs": [],
      "source": [
        "!pip install -U datasets"
      ]
    },
    {
      "cell_type": "markdown",
      "metadata": {
        "id": "6YMaWKs9QDwj"
      },
      "source": [
        "### **Dataset 1 : trashnet_enhanced** (19.9k)"
      ]
    },
    {
      "cell_type": "code",
      "execution_count": null,
      "metadata": {
        "id": "kX4-VTksPZhk"
      },
      "outputs": [],
      "source": [
        "# from datasets import load_dataset\n",
        "# data1 = load_dataset(\"edwinpalegre/trashnet_enhanced\")"
      ]
    },
    {
      "cell_type": "markdown",
      "metadata": {
        "id": "AUvaMhS1P9a3"
      },
      "source": [
        "### **Dataset 2 : small trashnet** ( 2.53k)"
      ]
    },
    {
      "cell_type": "code",
      "execution_count": null,
      "metadata": {
        "id": "f4qSye1tF6An"
      },
      "outputs": [],
      "source": [
        "# from datasets import load_dataset\n",
        "# data2 = load_dataset(\"kuchidareo/small_trashnet\")"
      ]
    },
    {
      "cell_type": "markdown",
      "metadata": {
        "id": "YuSMbilpQsHt"
      },
      "source": [
        "### **Datset 3 : trashnet** (5.5k)"
      ]
    },
    {
      "cell_type": "code",
      "execution_count": null,
      "metadata": {
        "id": "2vBEZEqckuAJ"
      },
      "outputs": [],
      "source": [
        "# from datasets import load_dataset\n",
        "# data3 = load_dataset(\"garythung/trashnet\")"
      ]
    },
    {
      "cell_type": "markdown",
      "metadata": {
        "id": "zzMISXKIGp59"
      },
      "source": [
        "## **Importing Libraries**"
      ]
    },
    {
      "cell_type": "code",
      "execution_count": null,
      "metadata": {
        "id": "-n8IX01IGodH"
      },
      "outputs": [],
      "source": [
        "import warnings\n",
        "warnings.filterwarnings('ignore')\n",
        "\n",
        "import os\n",
        "import numpy as np\n",
        "import pandas as pd\n",
        "import seaborn as sns\n",
        "import matplotlib.pyplot as plt\n",
        "from matplotlib.colors import LinearSegmentedColormap\n",
        "from PIL import Image\n",
        "from collections import Counter"
      ]
    },
    {
      "cell_type": "code",
      "execution_count": null,
      "metadata": {
        "id": "2BLQmzKjSRNq"
      },
      "outputs": [],
      "source": [
        "from sklearn.model_selection import train_test_split\n",
        "from sklearn.utils.class_weight import compute_class_weight\n",
        "from sklearn.metrics import classification_report, confusion_matrix\n",
        "from sklearn.metrics import roc_curve, auc\n",
        "from sklearn.preprocessing import label_binarize"
      ]
    },
    {
      "cell_type": "code",
      "execution_count": null,
      "metadata": {
        "id": "t99PqMjCSWZk"
      },
      "outputs": [],
      "source": [
        "from tensorflow import keras\n",
        "from keras.layers import Input, Activation, Add, Dense, Conv2D, GlobalAveragePooling2D, MaxPooling2D\n",
        "from keras.layers import BatchNormalization, Dropout\n",
        "from keras.models import Model\n",
        "from keras.utils import plot_model\n",
        "from keras.callbacks import ReduceLROnPlateau, EarlyStopping,ModelCheckpoint\n",
        "\n",
        "from sklearn.metrics import classification_report, confusion_matrix\n",
        "\n",
        "from tensorflow.keras.preprocessing.image import ImageDataGenerator # type: ignore\n",
        "from tensorflow.keras.optimizers import Adam # type: ignore\n",
        "from tensorflow.keras.preprocessing.image import ImageDataGenerator, load_img, img_to_array# type: ignore\n",
        "from tensorflow.keras.applications import ResNet50,VGG16,MobileNetV2,InceptionV3 # type: ignore\n",
        "from tensorflow.keras.applications.resnet50 import preprocess_input # type: ignore\n",
        "from tensorflow.keras.applications.vgg16 import preprocess_input # type: ignore\n",
        "from tensorflow.keras.preprocessing import image # type: ignore"
      ]
    },
    {
      "cell_type": "markdown",
      "metadata": {
        "id": "oAn2pCrXkQ4Q"
      },
      "source": [
        "## Setting up Directory to save model data"
      ]
    },
    {
      "cell_type": "code",
      "execution_count": null,
      "metadata": {
        "id": "ffOmzAOXkUgU"
      },
      "outputs": [],
      "source": [
        "os.makedirs('test_dir', exist_ok=True)"
      ]
    },
    {
      "cell_type": "code",
      "execution_count": null,
      "metadata": {
        "colab": {
          "base_uri": "https://localhost:8080/"
        },
        "id": "-EQNch4DkWFk",
        "outputId": "2f5ddc57-dc15-4910-eda9-7427ed3e1429"
      },
      "outputs": [],
      "source": [
        "project_name = 'Waste_Classification'\n",
        "\n",
        "model_names = [\n",
        "    'Custom_CNN_From_Scratch',\n",
        "    'VGG16_Transfer_Learning',\n",
        "    'ResNet50_Transfer_Learning'\n",
        "]\n",
        "\n",
        "base_dir = '/content/'\n",
        "\n",
        "project_dir = os.path.join(base_dir, project_name)\n",
        "os.makedirs(project_dir, exist_ok=True)\n",
        "\n",
        "for each_model in model_names:\n",
        "    model_dir = os.path.join(project_dir, each_model)\n",
        "    os.makedirs(model_dir, exist_ok=True)\n",
        "\n",
        "print(f'Project directory structure created at: {project_dir}')"
      ]
    },
    {
      "cell_type": "markdown",
      "metadata": {
        "id": "Y5XcSAc6Lssw"
      },
      "source": [
        "## **Analysis of Data**"
      ]
    },
    {
      "cell_type": "markdown",
      "metadata": {
        "id": "azyzkLGIihSD"
      },
      "source": [
        "## **Dataset : small_trashnet**"
      ]
    },
    {
      "cell_type": "code",
      "execution_count": null,
      "metadata": {
        "colab": {
          "base_uri": "https://localhost:8080/",
          "height": 113,
          "referenced_widgets": [
            "6a191fc47f52440696369fb4017b17ad",
            "2fc4a326e1f543cb9d37e74843d76562",
            "a963e033e06f4011ada0d69f7c088538",
            "3708875863b14da8b096e90ea24aefc5",
            "f2b009f63a114c58b9e3426e095eae13",
            "b1678e81725b49929e6f80aa8eb746be",
            "e2cfa742b58f4ba28a61fed5b0471ea0",
            "e29694a4569a4e79aa02f564d1aeaa1c",
            "a8807d26d48d42869917eaa60979ee85",
            "80eb856e4a354584844b48df700acb9c",
            "9fce0ab482ac43e797c37faabe3f5d5f",
            "ce473647160e420a96aec46f7eb51e4c",
            "f1fb1b089c454678aa4174140e871906",
            "fce9f89ac3e744eb874d13260b322c84",
            "24534ae8f715467d879c3b9867819fee",
            "4de810ca6659462595e5482fb3218def",
            "6ba53ac5a60e4b2ab3f269b19a1a652c",
            "f84379691c714fe794f509856ab2491c",
            "978689bcc70940588443ee53291a2624",
            "74e7d4dcaf0a4b1abc8599519d647412",
            "00145ad37881459aae2d09f322e6158c",
            "29a9372daac54b7aa3a48e1a7c277211",
            "996b4ddb67604508b995f644c9071ce9",
            "5f408cf137ae482bbc40ed0425092fad",
            "e84f33a9b27a4c0d8a7d78986f7db492",
            "533d240a9eef4c00a7b29f14e61422f9",
            "48e59efab67f4ca7a425ce923e1613e3",
            "caa9c0d4d0094818946dbd3e4f87431e",
            "43f251ac0b91444b851265c202545551",
            "650663071e9a4d4ea5f0e1520064603e",
            "2ba272e71c6d46b496f4ba5bbfff45d5",
            "9f9598e1c4f44a65a2e386e2bcacbda1",
            "1e65ca301ee2444694484b2766256e59"
          ]
        },
        "id": "vmFzuQn5vyPD",
        "outputId": "81a8b966-d318-43ed-9426-9fc4cc9302d7"
      },
      "outputs": [],
      "source": [
        "from datasets import load_dataset\n",
        "dataset = load_dataset(\"kuchidareo/small_trashnet\")"
      ]
    },
    {
      "cell_type": "code",
      "execution_count": null,
      "metadata": {
        "id": "D49CJ4KN3eOQ"
      },
      "outputs": [],
      "source": [
        "label_mapping = {\n",
        "    0: 'cardboard',\n",
        "    1: 'glass',\n",
        "    2: 'metal',\n",
        "    3: 'paper',\n",
        "    4: 'plastic',\n",
        "    5: 'trash'\n",
        "}"
      ]
    },
    {
      "cell_type": "code",
      "execution_count": null,
      "metadata": {
        "colab": {
          "base_uri": "https://localhost:8080/"
        },
        "id": "ZIAn4KXidDB-",
        "outputId": "e7aee9ae-d884-4915-8cca-3cc29a4a8a93"
      },
      "outputs": [],
      "source": [
        "print(\"--------------------------\")\n",
        "print(\"Small Trashnet Dataset\")\n",
        "print(\"--------------------------\\n\")\n",
        "\n",
        "all_dimensions_set = set()\n",
        "\n",
        "label_image_count = {}\n",
        "\n",
        "total_images = 0\n",
        "\n",
        "for item in dataset['train']:\n",
        "    label = item['label']\n",
        "    image = item['image']\n",
        "\n",
        "    if label not in label_image_count:\n",
        "        label_image_count[label] = 0\n",
        "    label_image_count[label] += 1\n",
        "    total_images += 1\n",
        "\n",
        "    if hasattr(image, 'size') and hasattr(image, 'getbands'):\n",
        "        width, height = image.size\n",
        "        channels = len(image.getbands())\n",
        "        all_dimensions_set.add((width, height, channels))\n",
        "    else:\n",
        "        print(f\"Warning: Skipping item with non-image 'image' field type: {type(image)}\")\n",
        "\n",
        "\n",
        "for label, count in label_image_count.items():\n",
        "    print(f\"{label} folder contains {count} images.\")\n",
        "\n",
        "print(f\"\\nTotal images in the dataset: {total_images}\")\n",
        "\n",
        "if len(all_dimensions_set) == 1:\n",
        "    if all_dimensions_set:\n",
        "        width, height, channels = all_dimensions_set.pop()\n",
        "        print(f\"All images in the dataset have the same dimensions: {width}x{height} with {channels} color channels.\")\n",
        "    else:\n",
        "        print(\"No valid images found to determine dimensions.\")\n",
        "else:\n",
        "    print(\"The images in the dataset have different dimensions or color channels.\")"
      ]
    },
    {
      "cell_type": "markdown",
      "metadata": {
        "id": "fKeXRaiAL1gJ"
      },
      "source": [
        "## **Images of Each Category**"
      ]
    },
    {
      "cell_type": "code",
      "execution_count": null,
      "metadata": {
        "id": "HaYXSBUpOEbl"
      },
      "outputs": [],
      "source": [
        "label_mapping = {\n",
        "    0: 'cardboard',\n",
        "    1: 'glass',\n",
        "    2: 'metal',\n",
        "    3: 'paper',\n",
        "    4: 'plastic',\n",
        "    5: 'trash'\n",
        "}"
      ]
    },
    {
      "cell_type": "code",
      "execution_count": null,
      "metadata": {
        "colab": {
          "base_uri": "https://localhost:8080/",
          "height": 1000
        },
        "id": "RcMvTuUQ1H5K",
        "outputId": "f0affc05-2671-4dcc-c1db-f39351074274"
      },
      "outputs": [],
      "source": [
        "garbage_types = sorted(set([item['label'] for item in dataset['train']]))\n",
        "\n",
        "for garbage_type in garbage_types:\n",
        "    filtered_dataset = [item for item in dataset['train'] if item['label'] == garbage_type]\n",
        "\n",
        "    images = []\n",
        "    for i, item in enumerate(filtered_dataset):\n",
        "        if i >= 7:\n",
        "            break\n",
        "        images.append(item['image'])\n",
        "\n",
        "    if not images:\n",
        "        continue\n",
        "\n",
        "    fig, axs = plt.subplots(1, len(images), figsize=(11, 3))\n",
        "\n",
        "    for i, img in enumerate(images):\n",
        "        axs[i].imshow(img)\n",
        "        axs[i].axis('off')\n",
        "\n",
        "    fig.suptitle(f\"{label_mapping[garbage_type]}\", fontsize=15, y=1.0)\n",
        "    plt.tight_layout()\n",
        "    plt.show()"
      ]
    },
    {
      "cell_type": "code",
      "execution_count": null,
      "metadata": {
        "id": "B5qEI24jvyPG"
      },
      "outputs": [],
      "source": [
        "labels = [label_mapping[example['label']] for example in dataset['train']]"
      ]
    },
    {
      "cell_type": "code",
      "execution_count": null,
      "metadata": {
        "colab": {
          "base_uri": "https://localhost:8080/",
          "height": 487
        },
        "id": "FXDqpICd1TzJ",
        "outputId": "5986e351-e057-4813-fa96-f2825b1fcc8c"
      },
      "outputs": [],
      "source": [
        "class_counts = Counter(labels)\n",
        "plt.figure(figsize=(8,5))\n",
        "plt.bar(class_counts.keys(),\n",
        "        class_counts.values(),\n",
        "        color='skyblue',\n",
        "        edgecolor='k',\n",
        "        width=0.5)\n",
        "\n",
        "plt.xlabel(\"Class\")\n",
        "plt.ylabel(\"Number of Images\")\n",
        "plt.title(\"Number of Images per Class\")\n",
        "plt.xticks(rotation=0)\n",
        "plt.show()"
      ]
    },
    {
      "cell_type": "code",
      "execution_count": null,
      "metadata": {
        "colab": {
          "base_uri": "https://localhost:8080/",
          "height": 521
        },
        "id": "zE8YiLIRNgHg",
        "outputId": "bfa27464-d91d-490d-ab5d-fac2b85a622a"
      },
      "outputs": [],
      "source": [
        "textprops = {'fontsize':11 , }\n",
        "wedgeprops = {'linewidth':2 , 'width':1,'edgecolor':'k'}\n",
        "\n",
        "plt.figure(figsize=(6,6))\n",
        "plt.pie(class_counts.values(),\n",
        "        labels=class_counts.keys(),\n",
        "        autopct='%1.1f%%',\n",
        "        colors=['yellow','lightgreen','blue','indigo','violet','red'],\n",
        "        textprops=textprops,\n",
        "        wedgeprops=wedgeprops\n",
        "        )\n",
        "plt.title(\"Percentage of Total Images for Each Class\")\n",
        "plt.show()"
      ]
    },
    {
      "cell_type": "markdown",
      "metadata": {
        "id": "tCfpvnByR9bQ"
      },
      "source": [
        "## **Data Splitting**"
      ]
    },
    {
      "cell_type": "code",
      "execution_count": null,
      "metadata": {
        "colab": {
          "base_uri": "https://localhost:8080/"
        },
        "id": "c4aBikdnwPJ9",
        "outputId": "591f7362-d49d-47cf-8766-5a32bac6b87d"
      },
      "outputs": [],
      "source": [
        "dataset.column_names"
      ]
    },
    {
      "cell_type": "code",
      "execution_count": null,
      "metadata": {
        "id": "zXOdauNFVVrC"
      },
      "outputs": [],
      "source": [
        "data = []\n",
        "\n",
        "for item in dataset['train']:\n",
        "    label_num = item['label']\n",
        "    label = label_mapping[label_num]\n",
        "    data.append((item['image'], label))\n",
        "\n",
        "df = pd.DataFrame(data, columns=['image', 'label'])"
      ]
    },
    {
      "cell_type": "code",
      "execution_count": null,
      "metadata": {
        "colab": {
          "base_uri": "https://localhost:8080/"
        },
        "id": "IPNHaTMavyPH",
        "outputId": "44a98d93-a470-4522-b710-2474a1f0f902"
      },
      "outputs": [],
      "source": [
        "print(pd.DataFrame(df.head()))"
      ]
    },
    {
      "cell_type": "code",
      "execution_count": null,
      "metadata": {
        "colab": {
          "base_uri": "https://localhost:8080/"
        },
        "id": "cfOdi-J4x6lw",
        "outputId": "b80d3716-7bb7-4ec7-92a3-9478c5f40074"
      },
      "outputs": [],
      "source": [
        "print(df.info())"
      ]
    },
    {
      "cell_type": "code",
      "execution_count": null,
      "metadata": {
        "colab": {
          "base_uri": "https://localhost:8080/",
          "height": 85,
          "referenced_widgets": [
            "f4256663c66c4801a6b540cb96b3289d",
            "497129d900724debb5178ba1cba1e356",
            "155aea9d7ab147d5aa58f7a9c06a3d57",
            "aeee254052554e20ac743be68aaa597b",
            "ffab408929dc483bb10d40c68602454c",
            "ef7c19afeb3e43f885d8e4b3c27bdcb0",
            "422c2d70f17b4ae5b7e24f3acf65efc0",
            "6df5c9f63aab408fbdc8c89e5fed83ae",
            "b90cb3cf2c1c4c79a5a4ca5f4cbc48ae",
            "1bae3f7e872c451e9425d3e95b94e1e8",
            "b57c5c553a6441aca322785dd58286aa"
          ]
        },
        "id": "9dc7TGPrvyPI",
        "outputId": "0d4db8ee-f183-4eea-b810-4868ac693847"
      },
      "outputs": [],
      "source": [
        "def extract_labels(example):\n",
        "    return {'labels': example['label']}\n",
        "\n",
        "dataset = dataset.map(extract_labels, remove_columns=['label'])\n",
        "\n",
        "train_df, val_df = train_test_split(df, test_size=0.2, random_state=42, stratify=df['label'])\n",
        "print(f\"Number of images in the training set: {len(train_df)}\")\n",
        "print(f\"Number of images in the validation set: {len(val_df)}\")"
      ]
    },
    {
      "cell_type": "code",
      "execution_count": null,
      "metadata": {
        "colab": {
          "base_uri": "https://localhost:8080/"
        },
        "id": "Wr2O5oVTTXVg",
        "outputId": "98369554-d2ec-45a1-ee32-862ce435aa63"
      },
      "outputs": [],
      "source": [
        "overall_distribution = df['label'].value_counts(normalize=True) * 100\n",
        "\n",
        "train_distribution = train_df['label'].value_counts(normalize=True) * 100\n",
        "\n",
        "val_distribution = val_df['label'].value_counts(normalize=True) * 100\n",
        "\n",
        "print(\"Class distribution in the entire dataset:\\n\")\n",
        "print(overall_distribution.round(2))\n",
        "print('-'*40)\n",
        "\n",
        "print(\"\\nClass distribution in the training set:\\n\")\n",
        "print(train_distribution.round(2))\n",
        "print('-'*40)\n",
        "\n",
        "print(\"\\nClass distribution in the validation set:\\n\")\n",
        "print(val_distribution.round(2))"
      ]
    },
    {
      "cell_type": "code",
      "execution_count": null,
      "metadata": {
        "colab": {
          "base_uri": "https://localhost:8080/",
          "height": 522
        },
        "id": "a373eFFIgF_c",
        "outputId": "67c14f56-e6f4-4789-c2a8-fb5bcebab24e"
      },
      "outputs": [],
      "source": [
        "sns.set(style=\"whitegrid\")\n",
        "\n",
        "fig, axes = plt.subplots(1,3, figsize=(15,6))\n",
        "\n",
        "# Plot for overall distribution\n",
        "axes[0].bar(overall_distribution.index, overall_distribution.values, color='blue')\n",
        "axes[0].set_title(\"Overall Class Distribution\")\n",
        "axes[0].set_xlabel(\"Class\", fontsize=12, fontweight='bold')\n",
        "axes[0].set_ylabel(\"Percentage\", fontsize=12, fontweight='bold')\n",
        "axes[0].tick_params(axis='x', rotation=45)\n",
        "\n",
        "# Plot for train distribution\n",
        "axes[1].bar(train_distribution.index, train_distribution.values, color='green')\n",
        "axes[1].set_title(\"Train Class Distribution\")\n",
        "axes[1].set_xlabel(\"Class\",fontsize=12, fontweight='bold')\n",
        "axes[1].set_ylabel(\"Percentage\",fontsize=12, fontweight='bold')\n",
        "axes[1].tick_params(axis='x', rotation=45)\n",
        "\n",
        "# Plot for validation distribution\n",
        "axes[2].bar(val_distribution.index, val_distribution.values, color='red')\n",
        "axes[2].set_title(\"Validation Class Distribution\")\n",
        "axes[2].set_xlabel(\"Class\",fontsize=12, fontweight='bold')\n",
        "axes[2].set_ylabel(\"Percentage\",fontsize=12, fontweight='bold')\n",
        "axes[2].tick_params(axis='x', rotation=45)\n",
        "\n",
        "plt.tight_layout()\n",
        "plt.show()"
      ]
    },
    {
      "cell_type": "markdown",
      "metadata": {
        "id": "APNbR0X_UIIW"
      },
      "source": [
        "## Data Augmentation & Rescaling"
      ]
    },
    {
      "cell_type": "code",
      "execution_count": null,
      "metadata": {
        "id": "WdwrFacWvyPI"
      },
      "outputs": [],
      "source": [
        "train_datagen = ImageDataGenerator(\n",
        "    rescale=1./255,                    \n",
        "    rotation_range=45,                 \n",
        "    width_shift_range=0.15,             \n",
        "    height_shift_range=0.15,            \n",
        "    zoom_range=0.15,                   \n",
        "    horizontal_flip=True,              \n",
        "    shear_range=0.05,                   \n",
        "    brightness_range=[0.9, 1.1],        \n",
        "    channel_shift_range=10,            \n",
        "    fill_mode='nearest'                \n",
        ")\n",
        "\n",
        "val_datagen = ImageDataGenerator(rescale=1./255)"
      ]
    },
    {
      "cell_type": "markdown",
      "metadata": {
        "id": "QIbR_3MnvyPJ"
      },
      "source": [
        "## Generating Batches of Image"
      ]
    },
    {
      "cell_type": "code",
      "execution_count": null,
      "metadata": {
        "colab": {
          "base_uri": "https://localhost:8080/"
        },
        "id": "TBPf44wJvyPJ",
        "outputId": "88921fdb-f506-4838-d05a-34b650a92b89"
      },
      "outputs": [],
      "source": [
        "import os\n",
        "\n",
        "output_dir = \"image\"\n",
        "os.makedirs(output_dir, exist_ok=True)\n",
        "\n",
        "def save_image_and_get_path(row):\n",
        "    img_path = os.path.join(output_dir, f\"{row.name}.jpg\")\n",
        "    if isinstance(row[\"image\"], str):\n",
        "        return row[\"image\"]\n",
        "    elif hasattr(row[\"image\"], \"save\"):\n",
        "        row[\"image\"].save(img_path)\n",
        "        return img_path\n",
        "    else:\n",
        "        return None\n",
        "\n",
        "train_df[\"filepath\"] = train_df.apply(save_image_and_get_path, axis=1)\n",
        "val_df[\"filepath\"] = val_df.apply(save_image_and_get_path, axis=1)\n",
        "\n",
        "train_df = train_df.dropna(subset=[\"filepath\"])\n",
        "val_df = val_df.dropna(subset=[\"filepath\"])\n",
        "\n",
        "train_df[\"filepath\"] = train_df[\"filepath\"].astype(str)\n",
        "val_df[\"filepath\"] = val_df[\"filepath\"].astype(str)\n",
        "\n",
        "x_col=\"filepath\"\n",
        "\n",
        "print(train_df[\"filepath\"].head())\n",
        "print(type(train_df[\"filepath\"].iloc[0]))"
      ]
    },
    {
      "cell_type": "code",
      "execution_count": null,
      "metadata": {
        "colab": {
          "base_uri": "https://localhost:8080/"
        },
        "id": "m97FVZyEvyPJ",
        "outputId": "41333f10-16df-42c8-c0ba-8dabcdee34f9"
      },
      "outputs": [],
      "source": [
        "train_generator = train_datagen.flow_from_dataframe(\n",
        "    dataframe=train_df,                 \n",
        "    x_col=\"filepath\",                    \n",
        "    y_col=\"label\",                       \n",
        "    target_size=(384, 384),             \n",
        "    batch_size=32,                       \n",
        "    class_mode='categorical',            \n",
        "    seed=42,                             \n",
        "    shuffle=False                        \n",
        ")\n",
        "\n",
        "val_generator = val_datagen.flow_from_dataframe(\n",
        "    dataframe=val_df,                    \n",
        "    x_col=\"filepath\",                   \n",
        "    y_col=\"label\",                     \n",
        "    target_size=(384, 384),              \n",
        "    batch_size=32,                      \n",
        "    class_mode='categorical',           \n",
        "    seed=42,                             \n",
        "    shuffle=False                        "
      ]
    },
    {
      "cell_type": "code",
      "execution_count": null,
      "metadata": {
        "colab": {
          "base_uri": "https://localhost:8080/"
        },
        "id": "-25bJ7v1wce-",
        "outputId": "77ebfa50-c824-4e67-cf50-86e61e256178"
      },
      "outputs": [],
      "source": [
        "print(f\"Number of batches in train_generator: {len(train_generator)}\")\n",
        "print(f\"Number of batches in val_generator: {len(val_generator)}\")"
      ]
    },
    {
      "cell_type": "code",
      "execution_count": null,
      "metadata": {
        "colab": {
          "base_uri": "https://localhost:8080/"
        },
        "id": "DlL-0WLn0AF2",
        "outputId": "f26591ae-c9a6-4648-c6a3-c6e8ad7a0966"
      },
      "outputs": [],
      "source": [
        "num_batches = len(train_generator)\n",
        "\n",
        "total_augmented_images = num_batches * train_generator.batch_size\n",
        "\n",
        "print(f\"Total augmented images per epoch: {total_augmented_images}\")"
      ]
    },
    {
      "cell_type": "code",
      "execution_count": null,
      "metadata": {
        "id": "Tq8Hj5LtiXnC"
      },
      "outputs": [],
      "source": [
        "img_width, img_height = 48, 48\n",
        "num_classes = 6"
      ]
    },
    {
      "cell_type": "code",
      "execution_count": null,
      "metadata": {
        "colab": {
          "base_uri": "https://localhost:8080/",
          "height": 237
        },
        "id": "O3ebs9MOiN_r",
        "outputId": "e3a0ddf8-afd8-430f-83c6-15df9f036803"
      },
      "outputs": [],
      "source": [
        "image_path = 'image/2516.jpg'\n",
        "\n",
        "img = load_img(image_path, color_mode='grayscale', target_size=(img_width, img_height)) \n",
        "img_array = img_to_array(img) \n",
        "img_array = img_array.reshape((1,) + img_array.shape)  \n",
        "\n",
        "fig, axes = plt.subplots(nrows=1, ncols=5, figsize=(10, 4))\n",
        "axes[0].imshow(img_array[0, :, :, 0], cmap='gray')\n",
        "axes[0].set_title('Original Image')\n",
        "axes[0].axis('off')\n",
        "\n",
        "for i, ax in enumerate(axes.flat[1:]): \n",
        "    aug_iter = train_datagen.flow(img_array, batch_size=1)\n",
        "    aug_img = next(aug_iter)[0] \n",
        "    ax.imshow(aug_img[:, :, 0], cmap='gray')\n",
        "    ax.set_title(f'Augmented Image {i+1}')\n",
        "    ax.axis('off')\n",
        "\n",
        "plt.tight_layout()\n",
        "plt.show()"
      ]
    },
    {
      "cell_type": "markdown",
      "metadata": {
        "id": "3hfbsdX_vyPK"
      },
      "source": [
        "## Addressing Dataset Imbalances"
      ]
    },
    {
      "cell_type": "code",
      "execution_count": null,
      "metadata": {
        "colab": {
          "base_uri": "https://localhost:8080/"
        },
        "id": "7SW4o0_RvyPK",
        "outputId": "8a3e1b83-60c1-44fc-857c-e0e1b8c261d3"
      },
      "outputs": [],
      "source": [
        "class_labels = train_df['label'].unique()\n",
        "class_labels"
      ]
    },
    {
      "cell_type": "code",
      "execution_count": null,
      "metadata": {
        "colab": {
          "base_uri": "https://localhost:8080/"
        },
        "id": "WVZQYgMevyPK",
        "outputId": "a5774427-6b44-4970-fa52-037476d4309a"
      },
      "outputs": [],
      "source": [
        "weights = compute_class_weight(class_weight='balanced', classes=class_labels, y=train_df['label'])\n",
        "weights"
      ]
    },
    {
      "cell_type": "code",
      "execution_count": null,
      "metadata": {
        "colab": {
          "base_uri": "https://localhost:8080/"
        },
        "id": "dX8T8NflvyPL",
        "outputId": "76de84c3-22eb-4301-e5de-848473b17e1d"
      },
      "outputs": [],
      "source": [
        "class_weights = dict(zip(train_generator.class_indices.values(), weights))\n",
        "class_weights"
      ]
    },
    {
      "cell_type": "markdown",
      "metadata": {
        "id": "5JM3EQJs7KIp"
      },
      "source": [
        "## Model From Scratch"
      ]
    },
    {
      "cell_type": "code",
      "execution_count": null,
      "metadata": {
        "id": "5ZJaNyZovyPL"
      },
      "outputs": [],
      "source": [
        "def residual_block(X, kernel_size, filters, reduce=False, stride=2):\n",
        "\n",
        "    F1, F2, F3 = filters\n",
        "\n",
        "    X_shortcut = X\n",
        "\n",
        "    if reduce:\n",
        "        X = Conv2D(filters = F1, kernel_size = (1, 1), strides = (stride,stride), padding = 'valid', kernel_initializer='he_normal')(X)\n",
        "        X = BatchNormalization(axis = 3)(X)\n",
        "        X = Activation('relu')(X)\n",
        "\n",
        "        X_shortcut = Conv2D(filters = F3, kernel_size = (1, 1), strides = (stride,stride), padding = 'valid', kernel_initializer='he_normal')(X_shortcut)\n",
        "        X_shortcut = BatchNormalization(axis = 3)(X_shortcut)\n",
        "    else:\n",
        "        X = Conv2D(filters = F1, kernel_size = (1, 1), strides = (1,1), padding = 'valid', kernel_initializer='he_normal')(X)\n",
        "        X = BatchNormalization(axis = 3)(X)\n",
        "        X = Activation('relu')(X)\n",
        "\n",
        "    X = Conv2D(filters = F2, kernel_size = (kernel_size, kernel_size), strides = (1,1), padding = 'same', kernel_initializer='he_normal')(X)\n",
        "    X = BatchNormalization(axis = 3)(X)\n",
        "    X = Activation('relu')(X)\n",
        "\n",
        "    X = Conv2D(filters = F3, kernel_size = (1, 1), strides = (1,1), padding = 'valid', kernel_initializer='he_normal')(X)\n",
        "    X = BatchNormalization(axis = 3)(X)\n",
        "\n",
        "    X = Add()([X, X_shortcut])\n",
        "    X = Activation('relu')(X)\n",
        "\n",
        "    return X\n"
      ]
    },
    {
      "cell_type": "code",
      "execution_count": null,
      "metadata": {
        "id": "ho2EmP8b7UcU"
      },
      "outputs": [],
      "source": [
        "def model_scratch(input_shape, classes):\n",
        "\n",
        "    X_input = Input(input_shape)\n",
        "\n",
        "    # Block 1\n",
        "    X = Conv2D(64, (7, 7), strides=(2, 2), kernel_initializer='he_normal')(X_input)\n",
        "    X = BatchNormalization(axis=3)(X)\n",
        "    X = Activation('relu')(X)\n",
        "    X = MaxPooling2D((3, 3), strides=(2, 2))(X)\n",
        "\n",
        "    # Block 2\n",
        "    X = residual_block(X, 3, [64, 64, 256], reduce=True, stride=1)\n",
        "    X = residual_block(X, 3, [64, 64, 256])\n",
        "    X = residual_block(X, 3, [64, 64, 256])\n",
        "\n",
        "    # Block 3\n",
        "    X = residual_block(X, 3, [128, 128, 512], reduce=True, stride=2)\n",
        "    X = residual_block(X, 3, [128, 128, 512])\n",
        "    X = residual_block(X, 3, [128, 128, 512])\n",
        "    X = residual_block(X, 3, [128, 128, 512])\n",
        "\n",
        "    # Block 4\n",
        "    X = residual_block(X, 3, [256, 256, 1024], reduce=True, stride=2)\n",
        "    X = residual_block(X, 3, [256, 256, 1024])\n",
        "    X = residual_block(X, 3, [256, 256, 1024])\n",
        "    X = residual_block(X, 3, [256, 256, 1024])\n",
        "    X = residual_block(X, 3, [256, 256, 1024])\n",
        "    X = residual_block(X, 3, [256, 256, 1024])\n",
        "\n",
        "    # Block 5\n",
        "    X = residual_block(X, 3, [512, 512, 2048], reduce=True, stride=2)\n",
        "    X = residual_block(X, 3, [512, 512, 2048])\n",
        "    X = residual_block(X, 3, [512, 512, 2048])\n",
        "\n",
        "    X = GlobalAveragePooling2D()(X)\n",
        "\n",
        "    X = Dense(classes, activation='softmax')(X)\n",
        "\n",
        "    model = Model(inputs = X_input, outputs = X, name='ResNet50')\n",
        "\n",
        "    return model"
      ]
    },
    {
      "cell_type": "code",
      "execution_count": null,
      "metadata": {
        "id": "MvoRmijI7h6d"
      },
      "outputs": [],
      "source": [
        "def Modified_model_scratch(input_shape, classes):\n",
        "\n",
        "    X_input = Input(input_shape)\n",
        "\n",
        "    X = Conv2D(64, (7, 7), strides=(2, 2), kernel_initializer='he_normal')(X_input)\n",
        "    X = BatchNormalization(axis=3)(X)\n",
        "    X = Activation('relu')(X)\n",
        "    X = MaxPooling2D((3, 3), strides=(2, 2))(X)\n",
        "\n",
        "    X = residual_block(X, 3, [64, 64, 256], reduce=True, stride=1)\n",
        "    X = residual_block(X, 3, [64, 64, 256])\n",
        "    X = residual_block(X, 3, [64, 64, 256])\n",
        "\n",
        "    X = residual_block(X, 3, [128, 128, 512], reduce=True, stride=2)\n",
        "    X = residual_block(X, 3, [128, 128, 512])\n",
        "    X = residual_block(X, 3, [128, 128, 512])\n",
        "    X = residual_block(X, 3, [128, 128, 512])\n",
        "\n",
        "    X = residual_block(X, 3, [256, 256, 1024], reduce=True, stride=2)\n",
        "    X = residual_block(X, 3, [256, 256, 1024])\n",
        "    X = residual_block(X, 3, [256, 256, 1024])\n",
        "    X = residual_block(X, 3, [256, 256, 1024])\n",
        "    X = residual_block(X, 3, [256, 256, 1024])\n",
        "    X = residual_block(X, 3, [256, 256, 1024])\n",
        "\n",
        "\n",
        "    X = residual_block(X, 3, [512, 512, 2048], reduce=True, stride=2)\n",
        "    X = residual_block(X, 3, [512, 512, 2048])\n",
        "    X = residual_block(X, 3, [512, 512, 2048])\n",
        "\n",
        "    X = GlobalAveragePooling2D()(X)\n",
        "\n",
        "    X = Dropout(0.5)(X)\n",
        "\n",
        "    X = Dense(classes, activation='softmax')(X)\n",
        "\n",
        "    model = Model(inputs = X_input, outputs = X, name='Modified_Model')\n",
        "\n",
        "    return model"
      ]
    },
    {
      "cell_type": "code",
      "execution_count": null,
      "metadata": {
        "id": "6PZ5a-aa7z2I"
      },
      "outputs": [],
      "source": [
        "input_shape = (384, 384, 3)\n",
        "num_classes = 6\n",
        "\n",
        "modified_model = Modified_model_scratch(input_shape=input_shape, classes=num_classes)"
      ]
    },
    {
      "cell_type": "code",
      "execution_count": null,
      "metadata": {
        "colab": {
          "base_uri": "https://localhost:8080/",
          "height": 1000
        },
        "id": "f_04Q9BD77mI",
        "outputId": "415fa8a4-2032-4ab0-f2e9-13b6c9d9d609"
      },
      "outputs": [],
      "source": [
        "modified_model.summary()"
      ]
    },
    {
      "cell_type": "code",
      "execution_count": null,
      "metadata": {
        "id": "7zUfRppn87bg"
      },
      "outputs": [],
      "source": [
        "modified_model.compile(optimizer='adam', #0.001\n",
        "                       loss='categorical_crossentropy',\n",
        "                       metrics=['accuracy'])"
      ]
    },
    {
      "cell_type": "code",
      "execution_count": null,
      "metadata": {
        "colab": {
          "base_uri": "https://localhost:8080/",
          "height": 36
        },
        "id": "b_tyXv9Ejpmo",
        "outputId": "e97c9159-83d2-4128-969b-f798b4d1af6e"
      },
      "outputs": [],
      "source": [
        "cnn_path = '/content/Waste_Classification/Custom_CNN_From_Scratch'\n",
        "name = 'ModelFromScratch.keras'\n",
        "chk_path = os.path.join(cnn_path, name)\n",
        "chk_path"
      ]
    },
    {
      "cell_type": "code",
      "execution_count": null,
      "metadata": {
        "id": "t71LyoD49Av7"
      },
      "outputs": [],
      "source": [
        "checkpoint = ModelCheckpoint(filepath=chk_path,\n",
        "                             save_best_only=True,\n",
        "                             verbose=1,\n",
        "                             mode='min',\n",
        "                             monitor='val_loss')\n",
        "\n",
        "reduce_lr = ReduceLROnPlateau(monitor='val_loss',\n",
        "                              factor=0.5,\n",
        "                              patience=15,\n",
        "                              min_lr=0.00001)\n",
        "\n",
        "early_stopping = EarlyStopping(monitor='val_loss',\n",
        "                               mode='min',\n",
        "                               patience=50,\n",
        "                               restore_best_weights=True,\n",
        "                               verbose=1)"
      ]
    },
    {
      "cell_type": "code",
      "execution_count": null,
      "metadata": {
        "colab": {
          "base_uri": "https://localhost:8080/"
        },
        "id": "62FPrFm39EXK",
        "outputId": "420f3061-b409-4d4a-9541-37160df6ae78"
      },
      "outputs": [],
      "source": [
        "print(\"Assigned Class Weights:\")\n",
        "class_weights"
      ]
    },
    {
      "cell_type": "code",
      "execution_count": null,
      "metadata": {
        "colab": {
          "base_uri": "https://localhost:8080/"
        },
        "id": "ItNdwGyp9Fpo",
        "outputId": "77070b30-526d-4c45-ff09-74318a4bcc13"
      },
      "outputs": [],
      "source": [
        "num_epochs = 50\n",
        "\n",
        "history = modified_model.fit(train_generator,\n",
        "                            steps_per_epoch=len(train_generator),\n",
        "                            epochs=num_epochs,\n",
        "                            validation_data=val_generator,\n",
        "                            validation_steps=len(val_generator),\n",
        "                            class_weight=class_weights,\n",
        "                            callbacks=[checkpoint,reduce_lr, early_stopping],\n",
        "                            verbose=1)"
      ]
    },
    {
      "cell_type": "code",
      "execution_count": null,
      "metadata": {
        "id": "e92gP0Ef9T3h"
      },
      "outputs": [],
      "source": [
        "def plot_learning_curves(history, start_epoch=5):\n",
        "    df = pd.DataFrame(history.history)\n",
        "    df = df.iloc[start_epoch-1:]\n",
        "    sns.set(rc={'axes.facecolor': '#f0f0fc'}, style='darkgrid')\n",
        "\n",
        "    plt.figure(figsize=(15,6))\n",
        "    plt.subplot(1, 2, 1)\n",
        "    sns.lineplot(x=df.index, y=df['loss'], color='green', label='Train Loss')\n",
        "    sns.lineplot(x=df.index, y=df['val_loss'], color='red', linestyle='--', label='Validation Loss')\n",
        "    plt.xlabel('Epochs')\n",
        "    plt.ylabel('Loss')\n",
        "    plt.title('Loss Evolution')\n",
        "\n",
        "    plt.subplot(1, 2, 2)\n",
        "    sns.lineplot(x=df.index, y=df['accuracy'], color='darkblue', label='Train Accuracy')\n",
        "    sns.lineplot(x=df.index, y=df['val_accuracy'], color='red', linestyle='--', label='Validation Accuracy')\n",
        "    plt.xlabel('Epochs')\n",
        "    plt.ylabel('Accuracy')\n",
        "    plt.title('Accuracy Evolution')\n",
        "\n",
        "    plt.show()"
      ]
    },
    {
      "cell_type": "markdown",
      "metadata": {
        "id": "s2vstLlv_EJq"
      },
      "source": [
        "### plot curves"
      ]
    },
    {
      "cell_type": "code",
      "execution_count": null,
      "metadata": {
        "colab": {
          "base_uri": "https://localhost:8080/",
          "height": 573
        },
        "id": "Gg28qS8_uLW5",
        "outputId": "23020694-fe47-4f8e-aad5-a6abd075097a"
      },
      "outputs": [],
      "source": [
        "plot_learning_curves(history)"
      ]
    },
    {
      "cell_type": "markdown",
      "metadata": {
        "id": "JYjCSKL4_LA7"
      },
      "source": [
        "### Evaluate model performance"
      ]
    },
    {
      "cell_type": "code",
      "execution_count": null,
      "metadata": {
        "id": "uC1Tos3iuQxO"
      },
      "outputs": [],
      "source": [
        "def evaluate_model_performance(model, val_generator, class_labels):\n",
        "\n",
        "    true_labels = val_generator.classes\n",
        "\n",
        "    class_labels = list(val_generator.class_indices.keys())\n",
        "\n",
        "    predictions = model.predict(val_generator, steps=len(val_generator))\n",
        "\n",
        "    predicted_labels = np.argmax(predictions, axis=1)\n",
        "\n",
        "    true_labels = val_generator.classes\n",
        "\n",
        "    report = classification_report(true_labels, predicted_labels, target_names=class_labels)\n",
        "    print(report)\n",
        "    print('\\n')\n",
        "\n",
        "    colors = [\"white\", \"royalblue\"]\n",
        "    cmap_cm = LinearSegmentedColormap.from_list(\"cmap_cm\", colors)\n",
        "\n",
        "    cm = confusion_matrix(true_labels, predicted_labels)\n",
        "\n",
        "    plt.figure(figsize=(8,6))\n",
        "    sns.heatmap(cm, annot=True, cmap=cmap_cm, fmt='d', xticklabels=class_labels, yticklabels=class_labels)\n",
        "    plt.xlabel('Predicted Labels')\n",
        "    plt.ylabel('True Labels')\n",
        "    plt.title('Confusion Matrix')\n",
        "    plt.show()"
      ]
    },
    {
      "cell_type": "code",
      "execution_count": null,
      "metadata": {
        "colab": {
          "base_uri": "https://localhost:8080/",
          "height": 865
        },
        "id": "EY0JPB1IuW3X",
        "outputId": "fd66ba5e-92f9-40e0-e75e-9e7d5bfdb8bc"
      },
      "outputs": [],
      "source": [
        "evaluate_model_performance(modified_model, val_generator, class_labels)"
      ]
    },
    {
      "cell_type": "markdown",
      "metadata": {
        "id": "yHjaNQCfygcP"
      },
      "source": [
        "## Testing Model"
      ]
    },
    {
      "cell_type": "code",
      "execution_count": null,
      "metadata": {
        "id": "rQQ6mqJsjZXA"
      },
      "outputs": [],
      "source": [
        "model = keras.models.load_model(\"Models/Custom_CNN_From_Scratch/50 epochs/ModelFromScratch.keras\")"
      ]
    },
    {
      "cell_type": "code",
      "execution_count": null,
      "metadata": {
        "colab": {
          "base_uri": "https://localhost:8080/"
        },
        "id": "dYjs1-F6976j",
        "outputId": "a6db0739-0b4a-4174-88b9-36776523a77c"
      },
      "outputs": [],
      "source": [
        "test_loss, test_accuracy = modified_model.evaluate(val_generator)\n",
        "print(f\"Test Loss: {test_loss:.4f}\")\n",
        "print(f\"Test Accuracy: {test_accuracy:.4f}\")"
      ]
    },
    {
      "cell_type": "markdown",
      "metadata": {
        "id": "goFHHqQ_jGCH"
      },
      "source": [
        "## ## ROC-AUC Curve"
      ]
    },
    {
      "cell_type": "code",
      "execution_count": null,
      "metadata": {
        "colab": {
          "base_uri": "https://localhost:8080/",
          "height": 745
        },
        "id": "y4AuO9dBuUD8",
        "outputId": "a8983743-e324-42cf-fd6d-1fcecff83bef"
      },
      "outputs": [],
      "source": [
        "import numpy as np\n",
        "import matplotlib.pyplot as plt\n",
        "from sklearn.metrics import roc_curve, auc\n",
        "from sklearn.preprocessing import label_binarize\n",
        "from sklearn.multiclass import OneVsRestClassifier\n",
        "\n",
        "y_true = val_generator.classes\n",
        "y_pred_probs = modified_model.predict(val_generator)\n",
        "\n",
        "y_true_bin = label_binarize(y_true, classes=np.unique(y_true))\n",
        "n_classes = y_true_bin.shape[1]\n",
        "\n",
        "fpr = dict()\n",
        "tpr = dict()\n",
        "roc_auc = dict()\n",
        "for i in range(n_classes):\n",
        "    fpr[i], tpr[i], _ = roc_curve(y_true_bin[:, i], y_pred_probs[:, i])\n",
        "    roc_auc[i] = auc(fpr[i], tpr[i])\n",
        "\n",
        "plt.figure(figsize=(10, 8))\n",
        "for i in range(n_classes):\n",
        "    plt.plot(fpr[i], tpr[i], label=f'{label_mapping[i]} (AUC = {roc_auc[i]:.2f})')\n",
        "\n",
        "plt.plot([0, 1], [0, 1], 'k--')\n",
        "plt.xlim([0.0, 1.0])\n",
        "plt.ylim([0.0, 1.05])\n",
        "plt.xlabel('False Positive Rate')\n",
        "plt.ylabel('True Positive Rate')\n",
        "plt.title('Receiver Operating Characteristic (ROC) Curve for Each Class')\n",
        "plt.legend(loc=\"lower right\")\n",
        "plt.show()"
      ]
    },
    {
      "cell_type": "markdown",
      "metadata": {},
      "source": [
        "# VGG16 with Transfer Learning"
      ]
    },
    {
      "cell_type": "markdown",
      "metadata": {},
      "source": [
        "### Loading VGG16 with pretrained weights"
      ]
    },
    {
      "cell_type": "code",
      "execution_count": null,
      "metadata": {},
      "outputs": [],
      "source": [
        "base_model_vgg = VGG16(weights='imagenet', include_top=False, input_shape=(384, 384, 3))\n",
        "base_model_vgg.summary()"
      ]
    },
    {
      "cell_type": "code",
      "execution_count": null,
      "metadata": {},
      "outputs": [],
      "source": [
        "for layer in base_model_vgg.layers:\n",
        "    layer.trainable = False"
      ]
    },
    {
      "cell_type": "code",
      "execution_count": null,
      "metadata": {},
      "outputs": [],
      "source": [
        "x = base_model_vgg.output\n",
        "x = GlobalAveragePooling2D()(x)\n",
        "x = Dropout(0.5)(x)\n",
        "x = Dense(6, activation='softmax')(x)"
      ]
    },
    {
      "cell_type": "code",
      "execution_count": null,
      "metadata": {},
      "outputs": [],
      "source": [
        "transfer_vgg16_model = Model(inputs=base_model_vgg.input, \n",
        "                             outputs=x)\n",
        "\n",
        "transfer_vgg16_model.compile(optimizer=Adam(learning_rate=0.0001),\n",
        "                             loss='categorical_crossentropy', \n",
        "                             metrics=['accuracy'])\n",
        "\n",
        "transfer_vgg16_model.summary()"
      ]
    },
    {
      "cell_type": "markdown",
      "metadata": {},
      "source": [
        "### Applying VGG16 for specific Image Preprocessing"
      ]
    },
    {
      "cell_type": "code",
      "execution_count": null,
      "metadata": {},
      "outputs": [],
      "source": [
        "train_datagen = ImageDataGenerator(\n",
        "    rotation_range=60,\n",
        "    width_shift_range=0.15,\n",
        "    height_shift_range=0.15,\n",
        "    zoom_range=0.20,\n",
        "    horizontal_flip=True,\n",
        "    vertical_flip=True,\n",
        "    shear_range=0.05,\n",
        "    brightness_range=[0.9, 1.1],\n",
        "    channel_shift_range=10,\n",
        "    fill_mode='nearest',\n",
        "    preprocessing_function=tf.keras.applications.vgg16.preprocess_input\n",
        ")"
      ]
    },
    {
      "cell_type": "code",
      "execution_count": null,
      "metadata": {},
      "outputs": [],
      "source": [
        "val_datagen = ImageDataGenerator(preprocessing_function=tf.keras.applications.vgg16.preprocess_input)"
      ]
    },
    {
      "cell_type": "code",
      "execution_count": null,
      "metadata": {},
      "outputs": [],
      "source": [
        "train_generator = train_datagen.flow_from_dataframe(\n",
        "    dataframe=train_df,\n",
        "    x_col=\"filepath\",\n",
        "    y_col=\"label\",\n",
        "    target_size=(224, 224),\n",
        "    batch_size=8,  \n",
        "    class_mode='categorical',\n",
        "    seed=42,\n",
        "    shuffle=False\n",
        ")\n",
        "\n",
        "val_generator = val_datagen.flow_from_dataframe(\n",
        "    dataframe=val_df,\n",
        "    x_col=\"filepath\",\n",
        "    y_col=\"label\",\n",
        "    target_size=(224, 224),\n",
        "    batch_size=8,  \n",
        "    class_mode='categorical',\n",
        "    seed=42,\n",
        "    shuffle=False\n",
        ")\n"
      ]
    },
    {
      "cell_type": "code",
      "execution_count": null,
      "metadata": {},
      "outputs": [],
      "source": [
        "cnn_path = 'Models/VGG16_Transfer_Learning'\n",
        "name = 'VGG16TransferLearning.keras'\n",
        "chk_path = os.path.join(cnn_path, name)\n"
      ]
    },
    {
      "cell_type": "markdown",
      "metadata": {},
      "source": [
        "### Fine-tuning the Transfer Learning VGG16 Model"
      ]
    },
    {
      "cell_type": "code",
      "execution_count": null,
      "metadata": {},
      "outputs": [],
      "source": [
        "reduce_lr = ReduceLROnPlateau(monitor='val_loss',\n",
        "                              factor=0.5, \n",
        "                              patience=5, \n",
        "                              min_lr=1e-5)\n",
        "\n",
        "early_stopping = EarlyStopping(monitor='val_loss', \n",
        "                               patience=15, \n",
        "                               restore_best_weights=True,\n",
        "                                verbose=1)\n",
        "checkpoint = ModelCheckpoint(filepath=chk_path, \n",
        "                             save_best_only=True, \n",
        "                             verbose=1, \n",
        "                             monitor='val_loss', \n",
        "                             mode='min')"
      ]
    },
    {
      "cell_type": "code",
      "execution_count": null,
      "metadata": {},
      "outputs": [],
      "source": [
        "num_epochs = 35\n",
        "history = transfer_vgg16_model.fit(\n",
        "    train_generator,\n",
        "    steps_per_epoch=len(train_generator),\n",
        "    epochs=num_epochs,\n",
        "    validation_data=val_generator,\n",
        "    validation_steps=len(val_generator),\n",
        "    class_weight=class_weights,\n",
        "    callbacks=[reduce_lr, early_stopping, checkpoint]\n",
        ")"
      ]
    },
    {
      "cell_type": "code",
      "execution_count": null,
      "metadata": {},
      "outputs": [],
      "source": [
        "test_loss, test_accuracy = transfer_vgg16_model.evaluate(val_generator)\n",
        "print(f\"Test Loss: {test_loss:.4f}\")\n",
        "print(f\"Test Accuracy: {test_accuracy:.4f}\")"
      ]
    },
    {
      "cell_type": "markdown",
      "metadata": {},
      "source": [
        "### Visualizing the Learning Curves"
      ]
    },
    {
      "cell_type": "code",
      "execution_count": null,
      "metadata": {},
      "outputs": [],
      "source": [
        "plot_learning_curves(history, start_epoch=2)"
      ]
    },
    {
      "cell_type": "markdown",
      "metadata": {},
      "source": [
        "### Performance Metrics Assessment"
      ]
    },
    {
      "cell_type": "code",
      "execution_count": null,
      "metadata": {},
      "outputs": [],
      "source": [
        "evaluate_model_performance(transfer_vgg16_model, val_generator, class_labels)"
      ]
    },
    {
      "cell_type": "markdown",
      "metadata": {},
      "source": [
        "## ROC-AUC Curve"
      ]
    },
    {
      "cell_type": "code",
      "execution_count": null,
      "metadata": {},
      "outputs": [],
      "source": [
        "y_true = val_generator.classes\n",
        "y_pred_probs = transfer_vgg16_model.predict(val_generator)\n",
        "\n",
        "y_true_bin = label_binarize(y_true, classes=np.unique(y_true))\n",
        "n_classes = y_true_bin.shape[1]\n",
        "\n",
        "fpr, tpr, roc_auc = dict(), dict(), dict()\n",
        "for i in range(n_classes):\n",
        "    fpr[i], tpr[i], _ = roc_curve(y_true_bin[:, i], y_pred_probs[:, i])\n",
        "    roc_auc[i] = auc(fpr[i], tpr[i])\n",
        "\n",
        "plt.figure(figsize=(10, 8))\n",
        "for i in range(n_classes):\n",
        "    plt.plot(fpr[i], tpr[i], label=f'{label_mapping[i]} (AUC = {roc_auc[i]:.2f})')\n",
        "\n",
        "plt.plot([0, 1], [0, 1], 'k--')\n",
        "plt.xlim([0.0, 1.0])\n",
        "plt.ylim([0.0, 1.05])\n",
        "plt.xlabel('False Positive Rate')\n",
        "plt.ylabel('True Positive Rate')\n",
        "plt.title('Receiver Operating Characteristic (ROC) Curve for Each Class')\n",
        "plt.legend(loc=\"lower right\")\n",
        "plt.show()"
      ]
    },
    {
      "cell_type": "markdown",
      "metadata": {
        "id": "esATgSQm-nG2"
      },
      "source": [
        "# ResNet50 with Transfer Learning"
      ]
    },
    {
      "cell_type": "markdown",
      "metadata": {
        "id": "JEG-bYZ99F1M"
      },
      "source": [
        "## Loading ResNet50 with pretrained weights"
      ]
    },
    {
      "cell_type": "code",
      "execution_count": null,
      "metadata": {
        "colab": {
          "base_uri": "https://localhost:8080/"
        },
        "id": "s89wNqEVsD28",
        "outputId": "764875d4-4eed-4475-de19-a5aca833d860"
      },
      "outputs": [],
      "source": [
        "base_model = ResNet50(weights='imagenet', include_top=False, input_shape=(384, 384, 3))"
      ]
    },
    {
      "cell_type": "code",
      "execution_count": null,
      "metadata": {
        "colab": {
          "base_uri": "https://localhost:8080/",
          "height": 1000
        },
        "id": "P_E23H_d9W-N",
        "outputId": "8d34fae3-a173-4d79-b084-0a8c04ef9f8b"
      },
      "outputs": [],
      "source": [
        "base_model.summary()"
      ]
    },
    {
      "cell_type": "code",
      "execution_count": null,
      "metadata": {
        "colab": {
          "base_uri": "https://localhost:8080/"
        },
        "id": "Fa6FZuMt9b6M",
        "outputId": "4ffbfd72-ea34-43f8-db68-ae853a6d8d8c"
      },
      "outputs": [],
      "source": [
        "len(base_model.layers)"
      ]
    },
    {
      "cell_type": "code",
      "execution_count": null,
      "metadata": {
        "colab": {
          "base_uri": "https://localhost:8080/"
        },
        "id": "TgCPPD1z9dfs",
        "outputId": "ac56ad4c-cde1-498c-9d9d-46fe1d460ec3"
      },
      "outputs": [],
      "source": [
        "for i, layer in enumerate(base_model.layers):\n",
        "    if 140 <= i <= 150:\n",
        "        print(i, layer.name)"
      ]
    },
    {
      "cell_type": "code",
      "execution_count": null,
      "metadata": {
        "id": "V4GP1AMU9fC_"
      },
      "outputs": [],
      "source": [
        "for layer in base_model.layers[:143]:\n",
        "    layer.trainable = False"
      ]
    },
    {
      "cell_type": "code",
      "execution_count": null,
      "metadata": {
        "id": "TE_FsR2C9ghj"
      },
      "outputs": [],
      "source": [
        "x = base_model.output\n",
        "x = GlobalAveragePooling2D()(x)\n",
        "x = Dropout(0.5)(x)\n",
        "x = Dense(6, activation='softmax')(x)\n",
        "\n",
        "transfer_resnet50_model = Model(inputs=base_model.input, outputs=x)\n",
        "\n",
        "transfer_resnet50_model.compile(optimizer=Adam(learning_rate=0.0001), loss='categorical_crossentropy', metrics=['accuracy'])"
      ]
    },
    {
      "cell_type": "code",
      "execution_count": null,
      "metadata": {
        "colab": {
          "base_uri": "https://localhost:8080/",
          "height": 1000
        },
        "id": "SqBAM0SY9g9W",
        "outputId": "20c9a537-fad9-4890-95c9-f947a6f6501c"
      },
      "outputs": [],
      "source": [
        "plot_model(transfer_resnet50_model, show_shapes=False, show_layer_names=False, dpi=72)"
      ]
    },
    {
      "cell_type": "code",
      "execution_count": null,
      "metadata": {
        "colab": {
          "base_uri": "https://localhost:8080/",
          "height": 1000
        },
        "id": "vB2SRZWh9lBW",
        "outputId": "0c0ea87d-c9ae-498c-fc13-c8c504f5fcb5"
      },
      "outputs": [],
      "source": [
        "transfer_resnet50_model.summary()"
      ]
    },
    {
      "cell_type": "markdown",
      "metadata": {
        "id": "NymAmmWi9o_x"
      },
      "source": [
        "## Applying ResNet50-specific Image Preprocessing"
      ]
    },
    {
      "cell_type": "code",
      "execution_count": null,
      "metadata": {
        "id": "aPUT8OSq9qkg"
      },
      "outputs": [],
      "source": [
        "train_datagen = ImageDataGenerator(\n",
        "    rotation_range=60,                 \n",
        "    width_shift_range=0.15,            \n",
        "    height_shift_range=0.15,           \n",
        "    zoom_range=0.20,                 \n",
        "    horizontal_flip=True,             \n",
        "    vertical_flip=True,                 \n",
        "    shear_range=0.05,                   \n",
        "    brightness_range=[0.9, 1.1],        \n",
        "    channel_shift_range=10,            \n",
        "    fill_mode='nearest',                 \n",
        "    preprocessing_function=preprocess_input  \n",
        ")\n",
        "\n",
        "val_datagen = ImageDataGenerator(preprocessing_function=preprocess_input) "
      ]
    },
    {
      "cell_type": "code",
      "execution_count": null,
      "metadata": {
        "colab": {
          "base_uri": "https://localhost:8080/"
        },
        "id": "V3o_HJlm9thk",
        "outputId": "00db20d3-68d3-4543-b447-5407c1e172df"
      },
      "outputs": [],
      "source": [
        "train_generator = train_datagen.flow_from_dataframe(\n",
        "    dataframe=train_df,                 \n",
        "    x_col=\"filepath\",                   \n",
        "    y_col=\"label\",                     \n",
        "    target_size=(384, 384),            \n",
        "    batch_size=32,                     \n",
        "    class_mode='categorical',           \n",
        "    seed=42,                            \n",
        "    shuffle=False                      \n",
        ")\n",
        "\n",
        "val_generator = val_datagen.flow_from_dataframe(\n",
        "    dataframe=val_df,                   \n",
        "    x_col=\"filepath\",                  \n",
        "    y_col=\"label\",                      \n",
        "    target_size=(384, 384),              \n",
        "    batch_size=32,                      \n",
        "    class_mode='categorical',          \n",
        "    seed=42,                            \n",
        "    shuffle=False                      \n",
        ")\n"
      ]
    },
    {
      "cell_type": "code",
      "execution_count": null,
      "metadata": {},
      "outputs": [],
      "source": [
        "cnn_path = 'Waste_Classification/ResNet50_Transfer_Learning'\n",
        "name = 'ResNet50TransferLearning.keras'\n",
        "chk_path = os.path.join(cnn_path, name)\n",
        "chk_path"
      ]
    },
    {
      "cell_type": "markdown",
      "metadata": {
        "id": "SnphQD9N90yu"
      },
      "source": [
        "## Fine-tuning the Transfer Learning ResNet50 Model"
      ]
    },
    {
      "cell_type": "code",
      "execution_count": null,
      "metadata": {
        "id": "6zFeo7LougCU"
      },
      "outputs": [],
      "source": [
        "reduce_lr = ReduceLROnPlateau(monitor='val_loss', \n",
        "                              factor=0.5, patience=5, \n",
        "                              min_lr=0.00001)\n",
        "\n",
        "early_stopping = EarlyStopping(monitor='val_loss', \n",
        "                               mode='min', patience=15, \n",
        "                               restore_best_weights=True,\n",
        "                               verbose=1)\n",
        "\n",
        "checkpoint = ModelCheckpoint(filepath=chk_path,\n",
        "                             save_best_only=True,\n",
        "                             verbose=1,\n",
        "                             mode='min',\n",
        "                             monitor='val_loss')"
      ]
    },
    {
      "cell_type": "code",
      "execution_count": null,
      "metadata": {
        "colab": {
          "base_uri": "https://localhost:8080/",
          "height": 407
        },
        "id": "A1BXT6VAuZ4W",
        "outputId": "dee3e9ef-e8ae-45a7-e1d5-4e90df888ef5"
      },
      "outputs": [],
      "source": [
        "num_epochs = 30\n",
        "\n",
        "history = transfer_resnet50_model.fit(train_generator,\n",
        "                                      steps_per_epoch=len(train_generator),\n",
        "                                      epochs=num_epochs,\n",
        "                                      validation_data=val_generator,\n",
        "                                      validation_steps=len(val_generator),\n",
        "                                      class_weight=class_weights,\n",
        "                                      callbacks=[reduce_lr, early_stopping,checkpoint])\n"
      ]
    },
    {
      "cell_type": "code",
      "execution_count": null,
      "metadata": {},
      "outputs": [],
      "source": [
        "test_loss, test_accuracy = transfer_resnet50_model.evaluate(val_generator)\n",
        "print(f\"Test Loss: {test_loss:.4f}\")\n",
        "print(f\"Test Accuracy: {test_accuracy:.4f}\")"
      ]
    },
    {
      "cell_type": "markdown",
      "metadata": {
        "id": "zcKAtORQ-Ofj"
      },
      "source": [
        "## Visualizing the Learning Curves"
      ]
    },
    {
      "cell_type": "code",
      "execution_count": null,
      "metadata": {
        "id": "9-YT0hsJ-Rd6"
      },
      "outputs": [],
      "source": [
        "plot_learning_curves(history, start_epoch=2)"
      ]
    },
    {
      "cell_type": "markdown",
      "metadata": {
        "id": "cMPC0mz8-SI5"
      },
      "source": [
        "## Performance Metrics Assessment"
      ]
    },
    {
      "cell_type": "code",
      "execution_count": null,
      "metadata": {
        "id": "_pWDYDBO937Q"
      },
      "outputs": [],
      "source": [
        "evaluate_model_performance(transfer_resnet50_model, val_generator, class_labels)"
      ]
    },
    {
      "cell_type": "markdown",
      "metadata": {},
      "source": [
        "## ROC-AUC Curve"
      ]
    },
    {
      "cell_type": "code",
      "execution_count": null,
      "metadata": {},
      "outputs": [],
      "source": [
        "y_true = val_generator.classes\n",
        "y_pred_probs = transfer_resnet50_model.predict(val_generator)"
      ]
    },
    {
      "cell_type": "code",
      "execution_count": null,
      "metadata": {},
      "outputs": [],
      "source": [
        "y_true_bin = label_binarize(y_true, classes=np.unique(y_true))\n",
        "n_classes = y_true_bin.shape[1]\n",
        "\n",
        "fpr = dict()\n",
        "tpr = dict()\n",
        "roc_auc = dict()\n",
        "for i in range(n_classes):\n",
        "    fpr[i], tpr[i], _ = roc_curve(y_true_bin[:, i], y_pred_probs[:, i])\n",
        "    roc_auc[i] = auc(fpr[i], tpr[i])\n",
        "\n",
        "plt.figure(figsize=(10, 8))\n",
        "for i in range(n_classes):\n",
        "    plt.plot(fpr[i], tpr[i], label=f'{label_mapping[i]} (AUC = {roc_auc[i]:.2f})')\n",
        "\n",
        "plt.plot([0, 1], [0, 1], 'k--')\n",
        "plt.xlim([0.0, 1.0])\n",
        "plt.ylim([0.0, 1.05])\n",
        "plt.xlabel('False Positive Rate')\n",
        "plt.ylabel('True Positive Rate')\n",
        "plt.title('Receiver Operating Characteristic (ROC) Curve for Each Class')\n",
        "plt.legend(loc=\"lower right\")\n",
        "plt.show()"
      ]
    },
    {
      "cell_type": "code",
      "execution_count": null,
      "metadata": {},
      "outputs": [],
      "source": [
        "# Next possible models for this project\n",
        "#  VGG19\n",
        "# ResNet101\n",
        "# MobileNetV2\n",
        "# Xception\n",
        "# InceptionV3\n",
        "# DenseNet169"
      ]
    },
    {
      "cell_type": "markdown",
      "metadata": {},
      "source": [
        "# MobileNetV2 with Transfer Learning"
      ]
    },
    {
      "cell_type": "markdown",
      "metadata": {},
      "source": [
        "## Loading MobileNetV2 with pretrained weights"
      ]
    },
    {
      "cell_type": "code",
      "execution_count": null,
      "metadata": {},
      "outputs": [],
      "source": [
        "base_model = MobileNetV2(weights='imagenet', include_top=False, input_shape=(224, 224, 3))\n",
        "base_model.summary()\n"
      ]
    },
    {
      "cell_type": "code",
      "execution_count": null,
      "metadata": {},
      "outputs": [],
      "source": [
        "# Freeze the convolutional base\n",
        "for layer in base_model.layers:\n",
        "    layer.trainable = False"
      ]
    },
    {
      "cell_type": "code",
      "execution_count": null,
      "metadata": {},
      "outputs": [],
      "source": [
        "x = base_model.output\n",
        "x = GlobalAveragePooling2D()(x)\n",
        "x = Dropout(0.5)(x)\n",
        "x = Dense(6, activation='softmax')(x)"
      ]
    },
    {
      "cell_type": "code",
      "execution_count": null,
      "metadata": {},
      "outputs": [],
      "source": [
        "transfer_mobilenetv2_model = Model(inputs=base_model.input, outputs=x)\n",
        "transfer_mobilenetv2_model.compile(optimizer=Adam(learning_rate=0.0001), loss='categorical_crossentropy', metrics=['accuracy'])"
      ]
    },
    {
      "cell_type": "code",
      "execution_count": null,
      "metadata": {},
      "outputs": [],
      "source": [
        "plot_model(transfer_mobilenetv2_model, show_shapes=False, show_layer_names=False, dpi=72)\n",
        "transfer_mobilenetv2_model.summary()\n"
      ]
    },
    {
      "cell_type": "markdown",
      "metadata": {},
      "source": [
        "## Applying MobileNetV2-specific Image Preprocessing"
      ]
    },
    {
      "cell_type": "code",
      "execution_count": null,
      "metadata": {},
      "outputs": [],
      "source": [
        "train_datagen = ImageDataGenerator(\n",
        "    rotation_range=60,\n",
        "    width_shift_range=0.15,\n",
        "    height_shift_range=0.15,\n",
        "    zoom_range=0.20,\n",
        "    horizontal_flip=True,\n",
        "    vertical_flip=True,\n",
        "    shear_range=0.05,\n",
        "    brightness_range=[0.9, 1.1],\n",
        "    channel_shift_range=10,\n",
        "    fill_mode='nearest',\n",
        "    preprocessing_function=tf.keras.applications.mobilenet_v2.preprocess_input\n",
        ")\n",
        "\n",
        "val_datagen = ImageDataGenerator(preprocessing_function=tf.keras.applications.mobilenet_v2.preprocess_input)"
      ]
    },
    {
      "cell_type": "code",
      "execution_count": null,
      "metadata": {},
      "outputs": [],
      "source": [
        "train_generator = train_datagen.flow_from_dataframe(\n",
        "    dataframe=train_df,\n",
        "    x_col=\"filepath\",\n",
        "    y_col=\"label\",\n",
        "    target_size=(224, 224),\n",
        "    batch_size=32,\n",
        "    class_mode='categorical',\n",
        "    seed=42,\n",
        "    shuffle=False\n",
        ")\n",
        "\n",
        "val_generator = val_datagen.flow_from_dataframe(\n",
        "    dataframe=val_df,\n",
        "    x_col=\"filepath\",\n",
        "    y_col=\"label\",\n",
        "    target_size=(224, 224),\n",
        "    batch_size=32,\n",
        "    class_mode='categorical',\n",
        "    seed=42,\n",
        "    shuffle=False\n",
        ")"
      ]
    },
    {
      "cell_type": "code",
      "execution_count": null,
      "metadata": {},
      "outputs": [],
      "source": [
        "# Checkpoint path\n",
        "cnn_path = 'Waste_Classification/MobileNetV2_Transfer_Learning'\n",
        "name = 'MobileNetV2TransferLearning.keras'\n",
        "chk_path = os.path.join(cnn_path, name)\n",
        "os.makedirs(cnn_path, exist_ok=True)\n"
      ]
    },
    {
      "cell_type": "markdown",
      "metadata": {},
      "source": [
        "## Fine-tuning the Transfer Learning MobileNetV2 Model"
      ]
    },
    {
      "cell_type": "code",
      "execution_count": null,
      "metadata": {},
      "outputs": [],
      "source": [
        "reduce_lr = ReduceLROnPlateau(monitor='val_loss', factor=0.5, patience=5, min_lr=1e-5)\n",
        "early_stopping = EarlyStopping(monitor='val_loss', patience=15, restore_best_weights=True, verbose=1)\n",
        "checkpoint = ModelCheckpoint(filepath=chk_path, save_best_only=True, verbose=1, monitor='val_loss', mode='min')"
      ]
    },
    {
      "cell_type": "code",
      "execution_count": null,
      "metadata": {},
      "outputs": [],
      "source": [
        "num_epochs = 50\n",
        "history = transfer_mobilenetv2_model.fit(\n",
        "    train_generator,\n",
        "    steps_per_epoch=len(train_generator),\n",
        "    epochs=num_epochs,\n",
        "    validation_data=val_generator,\n",
        "    validation_steps=len(val_generator),\n",
        "    class_weight=class_weights,\n",
        "    callbacks=[reduce_lr, early_stopping, checkpoint]\n",
        ")\n"
      ]
    },
    {
      "cell_type": "code",
      "execution_count": null,
      "metadata": {},
      "outputs": [],
      "source": [
        "test_loss, test_accuracy = transfer_mobilenetv2_model.evaluate(val_generator)\n",
        "print(f\"Test Loss: {test_loss:.4f}\")\n",
        "print(f\"Test Accuracy: {test_accuracy:.4f}\")"
      ]
    },
    {
      "cell_type": "markdown",
      "metadata": {},
      "source": [
        "## Visualizing the Learning Curves"
      ]
    },
    {
      "cell_type": "code",
      "execution_count": null,
      "metadata": {},
      "outputs": [],
      "source": [
        "plot_learning_curves(history, start_epoch=2)"
      ]
    },
    {
      "cell_type": "markdown",
      "metadata": {},
      "source": [
        "## Performance Metrics Assessment"
      ]
    },
    {
      "cell_type": "code",
      "execution_count": null,
      "metadata": {},
      "outputs": [],
      "source": [
        "evaluate_model_performance(transfer_mobilenetv2_model, val_generator, class_labels)"
      ]
    },
    {
      "cell_type": "markdown",
      "metadata": {},
      "source": [
        "## ROC-AUC Curve"
      ]
    },
    {
      "cell_type": "code",
      "execution_count": null,
      "metadata": {},
      "outputs": [],
      "source": [
        "y_true = val_generator.classes\n",
        "y_pred_probs = transfer_mobilenetv2_model.predict(val_generator)\n",
        "\n",
        "y_true_bin = label_binarize(y_true, classes=np.unique(y_true))\n",
        "n_classes = y_true_bin.shape[1]\n",
        "\n",
        "fpr, tpr, roc_auc = dict(), dict(), dict()\n",
        "for i in range(n_classes):\n",
        "    fpr[i], tpr[i], _ = roc_curve(y_true_bin[:, i], y_pred_probs[:, i])\n",
        "    roc_auc[i] = auc(fpr[i], tpr[i])\n",
        "\n",
        "plt.figure(figsize=(10, 8))\n",
        "for i in range(n_classes):\n",
        "    plt.plot(fpr[i], tpr[i], label=f'{label_mapping[i]} (AUC = {roc_auc[i]:.2f})')\n",
        "\n",
        "plt.plot([0, 1], [0, 1], 'k--')\n",
        "plt.xlim([0.0, 1.0])\n",
        "plt.ylim([0.0, 1.05])\n",
        "plt.xlabel('False Positive Rate')\n",
        "plt.ylabel('True Positive Rate')\n",
        "plt.title('Receiver Operating Characteristic (ROC) Curve for Each Class')\n",
        "plt.legend(loc=\"lower right\")\n",
        "plt.show()"
      ]
    },
    {
      "cell_type": "markdown",
      "metadata": {},
      "source": [
        "## Inception V3 with Transfer Learning"
      ]
    },
    {
      "cell_type": "markdown",
      "metadata": {},
      "source": [
        "## Loading Inception V3 with pretrained weights"
      ]
    },
    {
      "cell_type": "code",
      "execution_count": null,
      "metadata": {},
      "outputs": [],
      "source": [
        "base_model = InceptionV3(weights='imagenet', include_top=False, input_shape=(299, 299, 3))\n",
        "base_model.summary()"
      ]
    },
    {
      "cell_type": "code",
      "execution_count": null,
      "metadata": {},
      "outputs": [],
      "source": [
        "for layer in base_model.layers:\n",
        "    layer.trainable = False"
      ]
    },
    {
      "cell_type": "code",
      "execution_count": null,
      "metadata": {},
      "outputs": [],
      "source": [
        "x = base_model.output\n",
        "x = GlobalAveragePooling2D()(x)\n",
        "x = Dropout(0.5)(x)\n",
        "x = Dense(6, activation='softmax')(x)"
      ]
    },
    {
      "cell_type": "code",
      "execution_count": null,
      "metadata": {},
      "outputs": [],
      "source": [
        "transfer_inceptionv3_model = Model(inputs=base_model.input, outputs=x)\n",
        "transfer_inceptionv3_model.compile(optimizer=Adam(learning_rate=0.0001), loss='categorical_crossentropy', metrics=['accuracy'])"
      ]
    },
    {
      "cell_type": "code",
      "execution_count": null,
      "metadata": {},
      "outputs": [],
      "source": [
        "plot_model(transfer_inceptionv3_model, show_shapes=False, show_layer_names=False, dpi=72)\n",
        "transfer_inceptionv3_model.summary()"
      ]
    },
    {
      "cell_type": "markdown",
      "metadata": {},
      "source": [
        "## Applying Inception-V3 specific Image Preprocessing"
      ]
    },
    {
      "cell_type": "code",
      "execution_count": null,
      "metadata": {},
      "outputs": [],
      "source": [
        "train_datagen = ImageDataGenerator(\n",
        "    rotation_range=60,\n",
        "    width_shift_range=0.15,\n",
        "    height_shift_range=0.15,\n",
        "    zoom_range=0.20,\n",
        "    horizontal_flip=True,\n",
        "    vertical_flip=True,\n",
        "    shear_range=0.05,\n",
        "    brightness_range=[0.9, 1.1],\n",
        "    channel_shift_range=10,\n",
        "    fill_mode='nearest',\n",
        "    preprocessing_function=tf.keras.applications.inception_v3.preprocess_input\n",
        ")\n",
        "\n",
        "val_datagen = ImageDataGenerator(preprocessing_function=tf.keras.applications.inception_v3.preprocess_input)"
      ]
    },
    {
      "cell_type": "code",
      "execution_count": null,
      "metadata": {},
      "outputs": [],
      "source": [
        "train_generator = train_datagen.flow_from_dataframe(\n",
        "    dataframe=train_df,\n",
        "    x_col=\"filepath\",\n",
        "    y_col=\"label\",\n",
        "    target_size=(299, 299),\n",
        "    batch_size=32,\n",
        "    class_mode='categorical',\n",
        "    seed=42,\n",
        "    shuffle=False\n",
        ")\n",
        "\n",
        "val_generator = val_datagen.flow_from_dataframe(\n",
        "    dataframe=val_df,\n",
        "    x_col=\"filepath\",\n",
        "    y_col=\"label\",\n",
        "    target_size=(299, 299),\n",
        "    batch_size=32,\n",
        "    class_mode='categorical',\n",
        "    seed=42,\n",
        "    shuffle=False\n",
        ")"
      ]
    },
    {
      "cell_type": "code",
      "execution_count": null,
      "metadata": {},
      "outputs": [],
      "source": [
        "cnn_path = 'Waste_Classification/InceptionV3_Transfer_Learning'\n",
        "name = 'InceptionV3TransferLearning.keras'\n",
        "chk_path = os.path.join(cnn_path, name)\n",
        "os.makedirs(cnn_path, exist_ok=True)"
      ]
    },
    {
      "cell_type": "markdown",
      "metadata": {},
      "source": [
        "## Fine-tuning the Transfer Learning Inception-V3 Model"
      ]
    },
    {
      "cell_type": "code",
      "execution_count": null,
      "metadata": {},
      "outputs": [],
      "source": [
        "reduce_lr = ReduceLROnPlateau(monitor='val_loss', factor=0.5, patience=5, min_lr=1e-5)\n",
        "early_stopping = EarlyStopping(monitor='val_loss', patience=15, restore_best_weights=True, verbose=1)\n",
        "checkpoint = ModelCheckpoint(filepath=chk_path, save_best_only=True, verbose=1, monitor='val_loss', mode='min')"
      ]
    },
    {
      "cell_type": "code",
      "execution_count": null,
      "metadata": {},
      "outputs": [],
      "source": [
        "num_epochs = 50\n",
        "history = transfer_inceptionv3_model.fit(\n",
        "    train_generator,\n",
        "    steps_per_epoch=len(train_generator),\n",
        "    epochs=num_epochs,\n",
        "    validation_data=val_generator,\n",
        "    validation_steps=len(val_generator),\n",
        "    class_weight=class_weights,\n",
        "    callbacks=[reduce_lr, early_stopping, checkpoint]\n",
        ")"
      ]
    },
    {
      "cell_type": "code",
      "execution_count": null,
      "metadata": {},
      "outputs": [],
      "source": [
        "test_loss, test_accuracy = transfer_inceptionv3_model.evaluate(val_generator)\n",
        "print(f\"Test Loss: {test_loss:.4f}\")\n",
        "print(f\"Test Accuracy: {test_accuracy:.4f}\")"
      ]
    },
    {
      "cell_type": "markdown",
      "metadata": {},
      "source": [
        "## Visualizing the Learning Curves"
      ]
    },
    {
      "cell_type": "code",
      "execution_count": null,
      "metadata": {},
      "outputs": [],
      "source": [
        "plot_learning_curves(history, start_epoch=2)"
      ]
    },
    {
      "cell_type": "markdown",
      "metadata": {},
      "source": [
        "## Performance Metrics Assessment"
      ]
    },
    {
      "cell_type": "code",
      "execution_count": null,
      "metadata": {},
      "outputs": [],
      "source": [
        "evaluate_model_performance(transfer_inceptionv3_model, val_generator, class_labels)"
      ]
    },
    {
      "cell_type": "code",
      "execution_count": null,
      "metadata": {},
      "outputs": [],
      "source": [
        "y_true = val_generator.classes\n",
        "y_pred_probs = transfer_inceptionv3_model.predict(val_generator)\n",
        "\n",
        "y_true_bin = label_binarize(y_true, classes=np.unique(y_true))\n",
        "n_classes = y_true_bin.shape[1]\n",
        "\n",
        "fpr, tpr, roc_auc = dict(), dict(), dict()\n",
        "for i in range(n_classes):\n",
        "    fpr[i], tpr[i], _ = roc_curve(y_true_bin[:, i], y_pred_probs[:, i])\n",
        "    roc_auc[i] = auc(fpr[i], tpr[i])\n",
        "\n",
        "plt.figure(figsize=(10, 8))\n",
        "for i in range(n_classes):\n",
        "    plt.plot(fpr[i], tpr[i], label=f'{label_mapping[i]} (AUC = {roc_auc[i]:.2f})')\n",
        "\n",
        "plt.plot([0, 1], [0, 1], 'k--')\n",
        "plt.xlim([0.0, 1.0])\n",
        "plt.ylim([0.0, 1.05])\n",
        "plt.xlabel('False Positive Rate')\n",
        "plt.ylabel('True Positive Rate')\n",
        "plt.title('Receiver Operating Characteristic (ROC) Curve for Each Class')\n",
        "plt.legend(loc=\"lower right\")\n",
        "plt.show()\n"
      ]
    }
  ],
  "metadata": {
    "accelerator": "GPU",
    "colab": {
      "gpuType": "T4",
      "provenance": [],
      "toc_visible": true
    },
    "kernelspec": {
      "display_name": "tf",
      "language": "python",
      "name": "python3"
    },
    "language_info": {
      "codemirror_mode": {
        "name": "ipython",
        "version": 3
      },
      "file_extension": ".py",
      "mimetype": "text/x-python",
      "name": "python",
      "nbconvert_exporter": "python",
      "pygments_lexer": "ipython3",
      "version": "3.9.23"
    },
    "widgets": {
      "application/vnd.jupyter.widget-state+json": {
        "00145ad37881459aae2d09f322e6158c": {
          "model_module": "@jupyter-widgets/base",
          "model_module_version": "1.2.0",
          "model_name": "LayoutModel",
          "state": {
            "_model_module": "@jupyter-widgets/base",
            "_model_module_version": "1.2.0",
            "_model_name": "LayoutModel",
            "_view_count": null,
            "_view_module": "@jupyter-widgets/base",
            "_view_module_version": "1.2.0",
            "_view_name": "LayoutView",
            "align_content": null,
            "align_items": null,
            "align_self": null,
            "border": null,
            "bottom": null,
            "display": null,
            "flex": null,
            "flex_flow": null,
            "grid_area": null,
            "grid_auto_columns": null,
            "grid_auto_flow": null,
            "grid_auto_rows": null,
            "grid_column": null,
            "grid_gap": null,
            "grid_row": null,
            "grid_template_areas": null,
            "grid_template_columns": null,
            "grid_template_rows": null,
            "height": null,
            "justify_content": null,
            "justify_items": null,
            "left": null,
            "margin": null,
            "max_height": null,
            "max_width": null,
            "min_height": null,
            "min_width": null,
            "object_fit": null,
            "object_position": null,
            "order": null,
            "overflow": null,
            "overflow_x": null,
            "overflow_y": null,
            "padding": null,
            "right": null,
            "top": null,
            "visibility": null,
            "width": null
          }
        },
        "155aea9d7ab147d5aa58f7a9c06a3d57": {
          "model_module": "@jupyter-widgets/controls",
          "model_module_version": "1.5.0",
          "model_name": "FloatProgressModel",
          "state": {
            "_dom_classes": [],
            "_model_module": "@jupyter-widgets/controls",
            "_model_module_version": "1.5.0",
            "_model_name": "FloatProgressModel",
            "_view_count": null,
            "_view_module": "@jupyter-widgets/controls",
            "_view_module_version": "1.5.0",
            "_view_name": "ProgressView",
            "bar_style": "success",
            "description": "",
            "description_tooltip": null,
            "layout": "IPY_MODEL_6df5c9f63aab408fbdc8c89e5fed83ae",
            "max": 2527,
            "min": 0,
            "orientation": "horizontal",
            "style": "IPY_MODEL_b90cb3cf2c1c4c79a5a4ca5f4cbc48ae",
            "value": 2527
          }
        },
        "1bae3f7e872c451e9425d3e95b94e1e8": {
          "model_module": "@jupyter-widgets/base",
          "model_module_version": "1.2.0",
          "model_name": "LayoutModel",
          "state": {
            "_model_module": "@jupyter-widgets/base",
            "_model_module_version": "1.2.0",
            "_model_name": "LayoutModel",
            "_view_count": null,
            "_view_module": "@jupyter-widgets/base",
            "_view_module_version": "1.2.0",
            "_view_name": "LayoutView",
            "align_content": null,
            "align_items": null,
            "align_self": null,
            "border": null,
            "bottom": null,
            "display": null,
            "flex": null,
            "flex_flow": null,
            "grid_area": null,
            "grid_auto_columns": null,
            "grid_auto_flow": null,
            "grid_auto_rows": null,
            "grid_column": null,
            "grid_gap": null,
            "grid_row": null,
            "grid_template_areas": null,
            "grid_template_columns": null,
            "grid_template_rows": null,
            "height": null,
            "justify_content": null,
            "justify_items": null,
            "left": null,
            "margin": null,
            "max_height": null,
            "max_width": null,
            "min_height": null,
            "min_width": null,
            "object_fit": null,
            "object_position": null,
            "order": null,
            "overflow": null,
            "overflow_x": null,
            "overflow_y": null,
            "padding": null,
            "right": null,
            "top": null,
            "visibility": null,
            "width": null
          }
        },
        "1e65ca301ee2444694484b2766256e59": {
          "model_module": "@jupyter-widgets/controls",
          "model_module_version": "1.5.0",
          "model_name": "DescriptionStyleModel",
          "state": {
            "_model_module": "@jupyter-widgets/controls",
            "_model_module_version": "1.5.0",
            "_model_name": "DescriptionStyleModel",
            "_view_count": null,
            "_view_module": "@jupyter-widgets/base",
            "_view_module_version": "1.2.0",
            "_view_name": "StyleView",
            "description_width": ""
          }
        },
        "24534ae8f715467d879c3b9867819fee": {
          "model_module": "@jupyter-widgets/controls",
          "model_module_version": "1.5.0",
          "model_name": "HTMLModel",
          "state": {
            "_dom_classes": [],
            "_model_module": "@jupyter-widgets/controls",
            "_model_module_version": "1.5.0",
            "_model_name": "HTMLModel",
            "_view_count": null,
            "_view_module": "@jupyter-widgets/controls",
            "_view_module_version": "1.5.0",
            "_view_name": "HTMLView",
            "description": "",
            "description_tooltip": null,
            "layout": "IPY_MODEL_00145ad37881459aae2d09f322e6158c",
            "placeholder": "​",
            "style": "IPY_MODEL_29a9372daac54b7aa3a48e1a7c277211",
            "value": " 43.2M/43.2M [00:00&lt;00:00, 60.2MB/s]"
          }
        },
        "29a9372daac54b7aa3a48e1a7c277211": {
          "model_module": "@jupyter-widgets/controls",
          "model_module_version": "1.5.0",
          "model_name": "DescriptionStyleModel",
          "state": {
            "_model_module": "@jupyter-widgets/controls",
            "_model_module_version": "1.5.0",
            "_model_name": "DescriptionStyleModel",
            "_view_count": null,
            "_view_module": "@jupyter-widgets/base",
            "_view_module_version": "1.2.0",
            "_view_name": "StyleView",
            "description_width": ""
          }
        },
        "2ba272e71c6d46b496f4ba5bbfff45d5": {
          "model_module": "@jupyter-widgets/controls",
          "model_module_version": "1.5.0",
          "model_name": "ProgressStyleModel",
          "state": {
            "_model_module": "@jupyter-widgets/controls",
            "_model_module_version": "1.5.0",
            "_model_name": "ProgressStyleModel",
            "_view_count": null,
            "_view_module": "@jupyter-widgets/base",
            "_view_module_version": "1.2.0",
            "_view_name": "StyleView",
            "bar_color": null,
            "description_width": ""
          }
        },
        "2fc4a326e1f543cb9d37e74843d76562": {
          "model_module": "@jupyter-widgets/controls",
          "model_module_version": "1.5.0",
          "model_name": "HTMLModel",
          "state": {
            "_dom_classes": [],
            "_model_module": "@jupyter-widgets/controls",
            "_model_module_version": "1.5.0",
            "_model_name": "HTMLModel",
            "_view_count": null,
            "_view_module": "@jupyter-widgets/controls",
            "_view_module_version": "1.5.0",
            "_view_name": "HTMLView",
            "description": "",
            "description_tooltip": null,
            "layout": "IPY_MODEL_b1678e81725b49929e6f80aa8eb746be",
            "placeholder": "​",
            "style": "IPY_MODEL_e2cfa742b58f4ba28a61fed5b0471ea0",
            "value": "README.md: 100%"
          }
        },
        "3708875863b14da8b096e90ea24aefc5": {
          "model_module": "@jupyter-widgets/controls",
          "model_module_version": "1.5.0",
          "model_name": "HTMLModel",
          "state": {
            "_dom_classes": [],
            "_model_module": "@jupyter-widgets/controls",
            "_model_module_version": "1.5.0",
            "_model_name": "HTMLModel",
            "_view_count": null,
            "_view_module": "@jupyter-widgets/controls",
            "_view_module_version": "1.5.0",
            "_view_name": "HTMLView",
            "description": "",
            "description_tooltip": null,
            "layout": "IPY_MODEL_80eb856e4a354584844b48df700acb9c",
            "placeholder": "​",
            "style": "IPY_MODEL_9fce0ab482ac43e797c37faabe3f5d5f",
            "value": " 4.84k/4.84k [00:00&lt;00:00, 76.2kB/s]"
          }
        },
        "422c2d70f17b4ae5b7e24f3acf65efc0": {
          "model_module": "@jupyter-widgets/controls",
          "model_module_version": "1.5.0",
          "model_name": "DescriptionStyleModel",
          "state": {
            "_model_module": "@jupyter-widgets/controls",
            "_model_module_version": "1.5.0",
            "_model_name": "DescriptionStyleModel",
            "_view_count": null,
            "_view_module": "@jupyter-widgets/base",
            "_view_module_version": "1.2.0",
            "_view_name": "StyleView",
            "description_width": ""
          }
        },
        "43f251ac0b91444b851265c202545551": {
          "model_module": "@jupyter-widgets/controls",
          "model_module_version": "1.5.0",
          "model_name": "DescriptionStyleModel",
          "state": {
            "_model_module": "@jupyter-widgets/controls",
            "_model_module_version": "1.5.0",
            "_model_name": "DescriptionStyleModel",
            "_view_count": null,
            "_view_module": "@jupyter-widgets/base",
            "_view_module_version": "1.2.0",
            "_view_name": "StyleView",
            "description_width": ""
          }
        },
        "48e59efab67f4ca7a425ce923e1613e3": {
          "model_module": "@jupyter-widgets/base",
          "model_module_version": "1.2.0",
          "model_name": "LayoutModel",
          "state": {
            "_model_module": "@jupyter-widgets/base",
            "_model_module_version": "1.2.0",
            "_model_name": "LayoutModel",
            "_view_count": null,
            "_view_module": "@jupyter-widgets/base",
            "_view_module_version": "1.2.0",
            "_view_name": "LayoutView",
            "align_content": null,
            "align_items": null,
            "align_self": null,
            "border": null,
            "bottom": null,
            "display": null,
            "flex": null,
            "flex_flow": null,
            "grid_area": null,
            "grid_auto_columns": null,
            "grid_auto_flow": null,
            "grid_auto_rows": null,
            "grid_column": null,
            "grid_gap": null,
            "grid_row": null,
            "grid_template_areas": null,
            "grid_template_columns": null,
            "grid_template_rows": null,
            "height": null,
            "justify_content": null,
            "justify_items": null,
            "left": null,
            "margin": null,
            "max_height": null,
            "max_width": null,
            "min_height": null,
            "min_width": null,
            "object_fit": null,
            "object_position": null,
            "order": null,
            "overflow": null,
            "overflow_x": null,
            "overflow_y": null,
            "padding": null,
            "right": null,
            "top": null,
            "visibility": null,
            "width": null
          }
        },
        "497129d900724debb5178ba1cba1e356": {
          "model_module": "@jupyter-widgets/controls",
          "model_module_version": "1.5.0",
          "model_name": "HTMLModel",
          "state": {
            "_dom_classes": [],
            "_model_module": "@jupyter-widgets/controls",
            "_model_module_version": "1.5.0",
            "_model_name": "HTMLModel",
            "_view_count": null,
            "_view_module": "@jupyter-widgets/controls",
            "_view_module_version": "1.5.0",
            "_view_name": "HTMLView",
            "description": "",
            "description_tooltip": null,
            "layout": "IPY_MODEL_ef7c19afeb3e43f885d8e4b3c27bdcb0",
            "placeholder": "​",
            "style": "IPY_MODEL_422c2d70f17b4ae5b7e24f3acf65efc0",
            "value": "Map: 100%"
          }
        },
        "4de810ca6659462595e5482fb3218def": {
          "model_module": "@jupyter-widgets/base",
          "model_module_version": "1.2.0",
          "model_name": "LayoutModel",
          "state": {
            "_model_module": "@jupyter-widgets/base",
            "_model_module_version": "1.2.0",
            "_model_name": "LayoutModel",
            "_view_count": null,
            "_view_module": "@jupyter-widgets/base",
            "_view_module_version": "1.2.0",
            "_view_name": "LayoutView",
            "align_content": null,
            "align_items": null,
            "align_self": null,
            "border": null,
            "bottom": null,
            "display": null,
            "flex": null,
            "flex_flow": null,
            "grid_area": null,
            "grid_auto_columns": null,
            "grid_auto_flow": null,
            "grid_auto_rows": null,
            "grid_column": null,
            "grid_gap": null,
            "grid_row": null,
            "grid_template_areas": null,
            "grid_template_columns": null,
            "grid_template_rows": null,
            "height": null,
            "justify_content": null,
            "justify_items": null,
            "left": null,
            "margin": null,
            "max_height": null,
            "max_width": null,
            "min_height": null,
            "min_width": null,
            "object_fit": null,
            "object_position": null,
            "order": null,
            "overflow": null,
            "overflow_x": null,
            "overflow_y": null,
            "padding": null,
            "right": null,
            "top": null,
            "visibility": null,
            "width": null
          }
        },
        "533d240a9eef4c00a7b29f14e61422f9": {
          "model_module": "@jupyter-widgets/controls",
          "model_module_version": "1.5.0",
          "model_name": "HTMLModel",
          "state": {
            "_dom_classes": [],
            "_model_module": "@jupyter-widgets/controls",
            "_model_module_version": "1.5.0",
            "_model_name": "HTMLModel",
            "_view_count": null,
            "_view_module": "@jupyter-widgets/controls",
            "_view_module_version": "1.5.0",
            "_view_name": "HTMLView",
            "description": "",
            "description_tooltip": null,
            "layout": "IPY_MODEL_9f9598e1c4f44a65a2e386e2bcacbda1",
            "placeholder": "​",
            "style": "IPY_MODEL_1e65ca301ee2444694484b2766256e59",
            "value": " 2527/2527 [00:00&lt;00:00, 5652.87 examples/s]"
          }
        },
        "5f408cf137ae482bbc40ed0425092fad": {
          "model_module": "@jupyter-widgets/controls",
          "model_module_version": "1.5.0",
          "model_name": "HTMLModel",
          "state": {
            "_dom_classes": [],
            "_model_module": "@jupyter-widgets/controls",
            "_model_module_version": "1.5.0",
            "_model_name": "HTMLModel",
            "_view_count": null,
            "_view_module": "@jupyter-widgets/controls",
            "_view_module_version": "1.5.0",
            "_view_name": "HTMLView",
            "description": "",
            "description_tooltip": null,
            "layout": "IPY_MODEL_caa9c0d4d0094818946dbd3e4f87431e",
            "placeholder": "​",
            "style": "IPY_MODEL_43f251ac0b91444b851265c202545551",
            "value": "Generating train split: 100%"
          }
        },
        "650663071e9a4d4ea5f0e1520064603e": {
          "model_module": "@jupyter-widgets/base",
          "model_module_version": "1.2.0",
          "model_name": "LayoutModel",
          "state": {
            "_model_module": "@jupyter-widgets/base",
            "_model_module_version": "1.2.0",
            "_model_name": "LayoutModel",
            "_view_count": null,
            "_view_module": "@jupyter-widgets/base",
            "_view_module_version": "1.2.0",
            "_view_name": "LayoutView",
            "align_content": null,
            "align_items": null,
            "align_self": null,
            "border": null,
            "bottom": null,
            "display": null,
            "flex": null,
            "flex_flow": null,
            "grid_area": null,
            "grid_auto_columns": null,
            "grid_auto_flow": null,
            "grid_auto_rows": null,
            "grid_column": null,
            "grid_gap": null,
            "grid_row": null,
            "grid_template_areas": null,
            "grid_template_columns": null,
            "grid_template_rows": null,
            "height": null,
            "justify_content": null,
            "justify_items": null,
            "left": null,
            "margin": null,
            "max_height": null,
            "max_width": null,
            "min_height": null,
            "min_width": null,
            "object_fit": null,
            "object_position": null,
            "order": null,
            "overflow": null,
            "overflow_x": null,
            "overflow_y": null,
            "padding": null,
            "right": null,
            "top": null,
            "visibility": null,
            "width": null
          }
        },
        "6a191fc47f52440696369fb4017b17ad": {
          "model_module": "@jupyter-widgets/controls",
          "model_module_version": "1.5.0",
          "model_name": "HBoxModel",
          "state": {
            "_dom_classes": [],
            "_model_module": "@jupyter-widgets/controls",
            "_model_module_version": "1.5.0",
            "_model_name": "HBoxModel",
            "_view_count": null,
            "_view_module": "@jupyter-widgets/controls",
            "_view_module_version": "1.5.0",
            "_view_name": "HBoxView",
            "box_style": "",
            "children": [
              "IPY_MODEL_2fc4a326e1f543cb9d37e74843d76562",
              "IPY_MODEL_a963e033e06f4011ada0d69f7c088538",
              "IPY_MODEL_3708875863b14da8b096e90ea24aefc5"
            ],
            "layout": "IPY_MODEL_f2b009f63a114c58b9e3426e095eae13"
          }
        },
        "6ba53ac5a60e4b2ab3f269b19a1a652c": {
          "model_module": "@jupyter-widgets/base",
          "model_module_version": "1.2.0",
          "model_name": "LayoutModel",
          "state": {
            "_model_module": "@jupyter-widgets/base",
            "_model_module_version": "1.2.0",
            "_model_name": "LayoutModel",
            "_view_count": null,
            "_view_module": "@jupyter-widgets/base",
            "_view_module_version": "1.2.0",
            "_view_name": "LayoutView",
            "align_content": null,
            "align_items": null,
            "align_self": null,
            "border": null,
            "bottom": null,
            "display": null,
            "flex": null,
            "flex_flow": null,
            "grid_area": null,
            "grid_auto_columns": null,
            "grid_auto_flow": null,
            "grid_auto_rows": null,
            "grid_column": null,
            "grid_gap": null,
            "grid_row": null,
            "grid_template_areas": null,
            "grid_template_columns": null,
            "grid_template_rows": null,
            "height": null,
            "justify_content": null,
            "justify_items": null,
            "left": null,
            "margin": null,
            "max_height": null,
            "max_width": null,
            "min_height": null,
            "min_width": null,
            "object_fit": null,
            "object_position": null,
            "order": null,
            "overflow": null,
            "overflow_x": null,
            "overflow_y": null,
            "padding": null,
            "right": null,
            "top": null,
            "visibility": null,
            "width": null
          }
        },
        "6df5c9f63aab408fbdc8c89e5fed83ae": {
          "model_module": "@jupyter-widgets/base",
          "model_module_version": "1.2.0",
          "model_name": "LayoutModel",
          "state": {
            "_model_module": "@jupyter-widgets/base",
            "_model_module_version": "1.2.0",
            "_model_name": "LayoutModel",
            "_view_count": null,
            "_view_module": "@jupyter-widgets/base",
            "_view_module_version": "1.2.0",
            "_view_name": "LayoutView",
            "align_content": null,
            "align_items": null,
            "align_self": null,
            "border": null,
            "bottom": null,
            "display": null,
            "flex": null,
            "flex_flow": null,
            "grid_area": null,
            "grid_auto_columns": null,
            "grid_auto_flow": null,
            "grid_auto_rows": null,
            "grid_column": null,
            "grid_gap": null,
            "grid_row": null,
            "grid_template_areas": null,
            "grid_template_columns": null,
            "grid_template_rows": null,
            "height": null,
            "justify_content": null,
            "justify_items": null,
            "left": null,
            "margin": null,
            "max_height": null,
            "max_width": null,
            "min_height": null,
            "min_width": null,
            "object_fit": null,
            "object_position": null,
            "order": null,
            "overflow": null,
            "overflow_x": null,
            "overflow_y": null,
            "padding": null,
            "right": null,
            "top": null,
            "visibility": null,
            "width": null
          }
        },
        "74e7d4dcaf0a4b1abc8599519d647412": {
          "model_module": "@jupyter-widgets/controls",
          "model_module_version": "1.5.0",
          "model_name": "ProgressStyleModel",
          "state": {
            "_model_module": "@jupyter-widgets/controls",
            "_model_module_version": "1.5.0",
            "_model_name": "ProgressStyleModel",
            "_view_count": null,
            "_view_module": "@jupyter-widgets/base",
            "_view_module_version": "1.2.0",
            "_view_name": "StyleView",
            "bar_color": null,
            "description_width": ""
          }
        },
        "80eb856e4a354584844b48df700acb9c": {
          "model_module": "@jupyter-widgets/base",
          "model_module_version": "1.2.0",
          "model_name": "LayoutModel",
          "state": {
            "_model_module": "@jupyter-widgets/base",
            "_model_module_version": "1.2.0",
            "_model_name": "LayoutModel",
            "_view_count": null,
            "_view_module": "@jupyter-widgets/base",
            "_view_module_version": "1.2.0",
            "_view_name": "LayoutView",
            "align_content": null,
            "align_items": null,
            "align_self": null,
            "border": null,
            "bottom": null,
            "display": null,
            "flex": null,
            "flex_flow": null,
            "grid_area": null,
            "grid_auto_columns": null,
            "grid_auto_flow": null,
            "grid_auto_rows": null,
            "grid_column": null,
            "grid_gap": null,
            "grid_row": null,
            "grid_template_areas": null,
            "grid_template_columns": null,
            "grid_template_rows": null,
            "height": null,
            "justify_content": null,
            "justify_items": null,
            "left": null,
            "margin": null,
            "max_height": null,
            "max_width": null,
            "min_height": null,
            "min_width": null,
            "object_fit": null,
            "object_position": null,
            "order": null,
            "overflow": null,
            "overflow_x": null,
            "overflow_y": null,
            "padding": null,
            "right": null,
            "top": null,
            "visibility": null,
            "width": null
          }
        },
        "978689bcc70940588443ee53291a2624": {
          "model_module": "@jupyter-widgets/base",
          "model_module_version": "1.2.0",
          "model_name": "LayoutModel",
          "state": {
            "_model_module": "@jupyter-widgets/base",
            "_model_module_version": "1.2.0",
            "_model_name": "LayoutModel",
            "_view_count": null,
            "_view_module": "@jupyter-widgets/base",
            "_view_module_version": "1.2.0",
            "_view_name": "LayoutView",
            "align_content": null,
            "align_items": null,
            "align_self": null,
            "border": null,
            "bottom": null,
            "display": null,
            "flex": null,
            "flex_flow": null,
            "grid_area": null,
            "grid_auto_columns": null,
            "grid_auto_flow": null,
            "grid_auto_rows": null,
            "grid_column": null,
            "grid_gap": null,
            "grid_row": null,
            "grid_template_areas": null,
            "grid_template_columns": null,
            "grid_template_rows": null,
            "height": null,
            "justify_content": null,
            "justify_items": null,
            "left": null,
            "margin": null,
            "max_height": null,
            "max_width": null,
            "min_height": null,
            "min_width": null,
            "object_fit": null,
            "object_position": null,
            "order": null,
            "overflow": null,
            "overflow_x": null,
            "overflow_y": null,
            "padding": null,
            "right": null,
            "top": null,
            "visibility": null,
            "width": null
          }
        },
        "996b4ddb67604508b995f644c9071ce9": {
          "model_module": "@jupyter-widgets/controls",
          "model_module_version": "1.5.0",
          "model_name": "HBoxModel",
          "state": {
            "_dom_classes": [],
            "_model_module": "@jupyter-widgets/controls",
            "_model_module_version": "1.5.0",
            "_model_name": "HBoxModel",
            "_view_count": null,
            "_view_module": "@jupyter-widgets/controls",
            "_view_module_version": "1.5.0",
            "_view_name": "HBoxView",
            "box_style": "",
            "children": [
              "IPY_MODEL_5f408cf137ae482bbc40ed0425092fad",
              "IPY_MODEL_e84f33a9b27a4c0d8a7d78986f7db492",
              "IPY_MODEL_533d240a9eef4c00a7b29f14e61422f9"
            ],
            "layout": "IPY_MODEL_48e59efab67f4ca7a425ce923e1613e3"
          }
        },
        "9f9598e1c4f44a65a2e386e2bcacbda1": {
          "model_module": "@jupyter-widgets/base",
          "model_module_version": "1.2.0",
          "model_name": "LayoutModel",
          "state": {
            "_model_module": "@jupyter-widgets/base",
            "_model_module_version": "1.2.0",
            "_model_name": "LayoutModel",
            "_view_count": null,
            "_view_module": "@jupyter-widgets/base",
            "_view_module_version": "1.2.0",
            "_view_name": "LayoutView",
            "align_content": null,
            "align_items": null,
            "align_self": null,
            "border": null,
            "bottom": null,
            "display": null,
            "flex": null,
            "flex_flow": null,
            "grid_area": null,
            "grid_auto_columns": null,
            "grid_auto_flow": null,
            "grid_auto_rows": null,
            "grid_column": null,
            "grid_gap": null,
            "grid_row": null,
            "grid_template_areas": null,
            "grid_template_columns": null,
            "grid_template_rows": null,
            "height": null,
            "justify_content": null,
            "justify_items": null,
            "left": null,
            "margin": null,
            "max_height": null,
            "max_width": null,
            "min_height": null,
            "min_width": null,
            "object_fit": null,
            "object_position": null,
            "order": null,
            "overflow": null,
            "overflow_x": null,
            "overflow_y": null,
            "padding": null,
            "right": null,
            "top": null,
            "visibility": null,
            "width": null
          }
        },
        "9fce0ab482ac43e797c37faabe3f5d5f": {
          "model_module": "@jupyter-widgets/controls",
          "model_module_version": "1.5.0",
          "model_name": "DescriptionStyleModel",
          "state": {
            "_model_module": "@jupyter-widgets/controls",
            "_model_module_version": "1.5.0",
            "_model_name": "DescriptionStyleModel",
            "_view_count": null,
            "_view_module": "@jupyter-widgets/base",
            "_view_module_version": "1.2.0",
            "_view_name": "StyleView",
            "description_width": ""
          }
        },
        "a8807d26d48d42869917eaa60979ee85": {
          "model_module": "@jupyter-widgets/controls",
          "model_module_version": "1.5.0",
          "model_name": "ProgressStyleModel",
          "state": {
            "_model_module": "@jupyter-widgets/controls",
            "_model_module_version": "1.5.0",
            "_model_name": "ProgressStyleModel",
            "_view_count": null,
            "_view_module": "@jupyter-widgets/base",
            "_view_module_version": "1.2.0",
            "_view_name": "StyleView",
            "bar_color": null,
            "description_width": ""
          }
        },
        "a963e033e06f4011ada0d69f7c088538": {
          "model_module": "@jupyter-widgets/controls",
          "model_module_version": "1.5.0",
          "model_name": "FloatProgressModel",
          "state": {
            "_dom_classes": [],
            "_model_module": "@jupyter-widgets/controls",
            "_model_module_version": "1.5.0",
            "_model_name": "FloatProgressModel",
            "_view_count": null,
            "_view_module": "@jupyter-widgets/controls",
            "_view_module_version": "1.5.0",
            "_view_name": "ProgressView",
            "bar_style": "success",
            "description": "",
            "description_tooltip": null,
            "layout": "IPY_MODEL_e29694a4569a4e79aa02f564d1aeaa1c",
            "max": 4837,
            "min": 0,
            "orientation": "horizontal",
            "style": "IPY_MODEL_a8807d26d48d42869917eaa60979ee85",
            "value": 4837
          }
        },
        "aeee254052554e20ac743be68aaa597b": {
          "model_module": "@jupyter-widgets/controls",
          "model_module_version": "1.5.0",
          "model_name": "HTMLModel",
          "state": {
            "_dom_classes": [],
            "_model_module": "@jupyter-widgets/controls",
            "_model_module_version": "1.5.0",
            "_model_name": "HTMLModel",
            "_view_count": null,
            "_view_module": "@jupyter-widgets/controls",
            "_view_module_version": "1.5.0",
            "_view_name": "HTMLView",
            "description": "",
            "description_tooltip": null,
            "layout": "IPY_MODEL_1bae3f7e872c451e9425d3e95b94e1e8",
            "placeholder": "​",
            "style": "IPY_MODEL_b57c5c553a6441aca322785dd58286aa",
            "value": " 2527/2527 [00:00&lt;00:00, 8906.81 examples/s]"
          }
        },
        "b1678e81725b49929e6f80aa8eb746be": {
          "model_module": "@jupyter-widgets/base",
          "model_module_version": "1.2.0",
          "model_name": "LayoutModel",
          "state": {
            "_model_module": "@jupyter-widgets/base",
            "_model_module_version": "1.2.0",
            "_model_name": "LayoutModel",
            "_view_count": null,
            "_view_module": "@jupyter-widgets/base",
            "_view_module_version": "1.2.0",
            "_view_name": "LayoutView",
            "align_content": null,
            "align_items": null,
            "align_self": null,
            "border": null,
            "bottom": null,
            "display": null,
            "flex": null,
            "flex_flow": null,
            "grid_area": null,
            "grid_auto_columns": null,
            "grid_auto_flow": null,
            "grid_auto_rows": null,
            "grid_column": null,
            "grid_gap": null,
            "grid_row": null,
            "grid_template_areas": null,
            "grid_template_columns": null,
            "grid_template_rows": null,
            "height": null,
            "justify_content": null,
            "justify_items": null,
            "left": null,
            "margin": null,
            "max_height": null,
            "max_width": null,
            "min_height": null,
            "min_width": null,
            "object_fit": null,
            "object_position": null,
            "order": null,
            "overflow": null,
            "overflow_x": null,
            "overflow_y": null,
            "padding": null,
            "right": null,
            "top": null,
            "visibility": null,
            "width": null
          }
        },
        "b57c5c553a6441aca322785dd58286aa": {
          "model_module": "@jupyter-widgets/controls",
          "model_module_version": "1.5.0",
          "model_name": "DescriptionStyleModel",
          "state": {
            "_model_module": "@jupyter-widgets/controls",
            "_model_module_version": "1.5.0",
            "_model_name": "DescriptionStyleModel",
            "_view_count": null,
            "_view_module": "@jupyter-widgets/base",
            "_view_module_version": "1.2.0",
            "_view_name": "StyleView",
            "description_width": ""
          }
        },
        "b90cb3cf2c1c4c79a5a4ca5f4cbc48ae": {
          "model_module": "@jupyter-widgets/controls",
          "model_module_version": "1.5.0",
          "model_name": "ProgressStyleModel",
          "state": {
            "_model_module": "@jupyter-widgets/controls",
            "_model_module_version": "1.5.0",
            "_model_name": "ProgressStyleModel",
            "_view_count": null,
            "_view_module": "@jupyter-widgets/base",
            "_view_module_version": "1.2.0",
            "_view_name": "StyleView",
            "bar_color": null,
            "description_width": ""
          }
        },
        "caa9c0d4d0094818946dbd3e4f87431e": {
          "model_module": "@jupyter-widgets/base",
          "model_module_version": "1.2.0",
          "model_name": "LayoutModel",
          "state": {
            "_model_module": "@jupyter-widgets/base",
            "_model_module_version": "1.2.0",
            "_model_name": "LayoutModel",
            "_view_count": null,
            "_view_module": "@jupyter-widgets/base",
            "_view_module_version": "1.2.0",
            "_view_name": "LayoutView",
            "align_content": null,
            "align_items": null,
            "align_self": null,
            "border": null,
            "bottom": null,
            "display": null,
            "flex": null,
            "flex_flow": null,
            "grid_area": null,
            "grid_auto_columns": null,
            "grid_auto_flow": null,
            "grid_auto_rows": null,
            "grid_column": null,
            "grid_gap": null,
            "grid_row": null,
            "grid_template_areas": null,
            "grid_template_columns": null,
            "grid_template_rows": null,
            "height": null,
            "justify_content": null,
            "justify_items": null,
            "left": null,
            "margin": null,
            "max_height": null,
            "max_width": null,
            "min_height": null,
            "min_width": null,
            "object_fit": null,
            "object_position": null,
            "order": null,
            "overflow": null,
            "overflow_x": null,
            "overflow_y": null,
            "padding": null,
            "right": null,
            "top": null,
            "visibility": null,
            "width": null
          }
        },
        "ce473647160e420a96aec46f7eb51e4c": {
          "model_module": "@jupyter-widgets/controls",
          "model_module_version": "1.5.0",
          "model_name": "HBoxModel",
          "state": {
            "_dom_classes": [],
            "_model_module": "@jupyter-widgets/controls",
            "_model_module_version": "1.5.0",
            "_model_name": "HBoxModel",
            "_view_count": null,
            "_view_module": "@jupyter-widgets/controls",
            "_view_module_version": "1.5.0",
            "_view_name": "HBoxView",
            "box_style": "",
            "children": [
              "IPY_MODEL_f1fb1b089c454678aa4174140e871906",
              "IPY_MODEL_fce9f89ac3e744eb874d13260b322c84",
              "IPY_MODEL_24534ae8f715467d879c3b9867819fee"
            ],
            "layout": "IPY_MODEL_4de810ca6659462595e5482fb3218def"
          }
        },
        "e29694a4569a4e79aa02f564d1aeaa1c": {
          "model_module": "@jupyter-widgets/base",
          "model_module_version": "1.2.0",
          "model_name": "LayoutModel",
          "state": {
            "_model_module": "@jupyter-widgets/base",
            "_model_module_version": "1.2.0",
            "_model_name": "LayoutModel",
            "_view_count": null,
            "_view_module": "@jupyter-widgets/base",
            "_view_module_version": "1.2.0",
            "_view_name": "LayoutView",
            "align_content": null,
            "align_items": null,
            "align_self": null,
            "border": null,
            "bottom": null,
            "display": null,
            "flex": null,
            "flex_flow": null,
            "grid_area": null,
            "grid_auto_columns": null,
            "grid_auto_flow": null,
            "grid_auto_rows": null,
            "grid_column": null,
            "grid_gap": null,
            "grid_row": null,
            "grid_template_areas": null,
            "grid_template_columns": null,
            "grid_template_rows": null,
            "height": null,
            "justify_content": null,
            "justify_items": null,
            "left": null,
            "margin": null,
            "max_height": null,
            "max_width": null,
            "min_height": null,
            "min_width": null,
            "object_fit": null,
            "object_position": null,
            "order": null,
            "overflow": null,
            "overflow_x": null,
            "overflow_y": null,
            "padding": null,
            "right": null,
            "top": null,
            "visibility": null,
            "width": null
          }
        },
        "e2cfa742b58f4ba28a61fed5b0471ea0": {
          "model_module": "@jupyter-widgets/controls",
          "model_module_version": "1.5.0",
          "model_name": "DescriptionStyleModel",
          "state": {
            "_model_module": "@jupyter-widgets/controls",
            "_model_module_version": "1.5.0",
            "_model_name": "DescriptionStyleModel",
            "_view_count": null,
            "_view_module": "@jupyter-widgets/base",
            "_view_module_version": "1.2.0",
            "_view_name": "StyleView",
            "description_width": ""
          }
        },
        "e84f33a9b27a4c0d8a7d78986f7db492": {
          "model_module": "@jupyter-widgets/controls",
          "model_module_version": "1.5.0",
          "model_name": "FloatProgressModel",
          "state": {
            "_dom_classes": [],
            "_model_module": "@jupyter-widgets/controls",
            "_model_module_version": "1.5.0",
            "_model_name": "FloatProgressModel",
            "_view_count": null,
            "_view_module": "@jupyter-widgets/controls",
            "_view_module_version": "1.5.0",
            "_view_name": "ProgressView",
            "bar_style": "success",
            "description": "",
            "description_tooltip": null,
            "layout": "IPY_MODEL_650663071e9a4d4ea5f0e1520064603e",
            "max": 2527,
            "min": 0,
            "orientation": "horizontal",
            "style": "IPY_MODEL_2ba272e71c6d46b496f4ba5bbfff45d5",
            "value": 2527
          }
        },
        "ef7c19afeb3e43f885d8e4b3c27bdcb0": {
          "model_module": "@jupyter-widgets/base",
          "model_module_version": "1.2.0",
          "model_name": "LayoutModel",
          "state": {
            "_model_module": "@jupyter-widgets/base",
            "_model_module_version": "1.2.0",
            "_model_name": "LayoutModel",
            "_view_count": null,
            "_view_module": "@jupyter-widgets/base",
            "_view_module_version": "1.2.0",
            "_view_name": "LayoutView",
            "align_content": null,
            "align_items": null,
            "align_self": null,
            "border": null,
            "bottom": null,
            "display": null,
            "flex": null,
            "flex_flow": null,
            "grid_area": null,
            "grid_auto_columns": null,
            "grid_auto_flow": null,
            "grid_auto_rows": null,
            "grid_column": null,
            "grid_gap": null,
            "grid_row": null,
            "grid_template_areas": null,
            "grid_template_columns": null,
            "grid_template_rows": null,
            "height": null,
            "justify_content": null,
            "justify_items": null,
            "left": null,
            "margin": null,
            "max_height": null,
            "max_width": null,
            "min_height": null,
            "min_width": null,
            "object_fit": null,
            "object_position": null,
            "order": null,
            "overflow": null,
            "overflow_x": null,
            "overflow_y": null,
            "padding": null,
            "right": null,
            "top": null,
            "visibility": null,
            "width": null
          }
        },
        "f1fb1b089c454678aa4174140e871906": {
          "model_module": "@jupyter-widgets/controls",
          "model_module_version": "1.5.0",
          "model_name": "HTMLModel",
          "state": {
            "_dom_classes": [],
            "_model_module": "@jupyter-widgets/controls",
            "_model_module_version": "1.5.0",
            "_model_name": "HTMLModel",
            "_view_count": null,
            "_view_module": "@jupyter-widgets/controls",
            "_view_module_version": "1.5.0",
            "_view_name": "HTMLView",
            "description": "",
            "description_tooltip": null,
            "layout": "IPY_MODEL_6ba53ac5a60e4b2ab3f269b19a1a652c",
            "placeholder": "​",
            "style": "IPY_MODEL_f84379691c714fe794f509856ab2491c",
            "value": "train-00000-of-00001.parquet: 100%"
          }
        },
        "f2b009f63a114c58b9e3426e095eae13": {
          "model_module": "@jupyter-widgets/base",
          "model_module_version": "1.2.0",
          "model_name": "LayoutModel",
          "state": {
            "_model_module": "@jupyter-widgets/base",
            "_model_module_version": "1.2.0",
            "_model_name": "LayoutModel",
            "_view_count": null,
            "_view_module": "@jupyter-widgets/base",
            "_view_module_version": "1.2.0",
            "_view_name": "LayoutView",
            "align_content": null,
            "align_items": null,
            "align_self": null,
            "border": null,
            "bottom": null,
            "display": null,
            "flex": null,
            "flex_flow": null,
            "grid_area": null,
            "grid_auto_columns": null,
            "grid_auto_flow": null,
            "grid_auto_rows": null,
            "grid_column": null,
            "grid_gap": null,
            "grid_row": null,
            "grid_template_areas": null,
            "grid_template_columns": null,
            "grid_template_rows": null,
            "height": null,
            "justify_content": null,
            "justify_items": null,
            "left": null,
            "margin": null,
            "max_height": null,
            "max_width": null,
            "min_height": null,
            "min_width": null,
            "object_fit": null,
            "object_position": null,
            "order": null,
            "overflow": null,
            "overflow_x": null,
            "overflow_y": null,
            "padding": null,
            "right": null,
            "top": null,
            "visibility": null,
            "width": null
          }
        },
        "f4256663c66c4801a6b540cb96b3289d": {
          "model_module": "@jupyter-widgets/controls",
          "model_module_version": "1.5.0",
          "model_name": "HBoxModel",
          "state": {
            "_dom_classes": [],
            "_model_module": "@jupyter-widgets/controls",
            "_model_module_version": "1.5.0",
            "_model_name": "HBoxModel",
            "_view_count": null,
            "_view_module": "@jupyter-widgets/controls",
            "_view_module_version": "1.5.0",
            "_view_name": "HBoxView",
            "box_style": "",
            "children": [
              "IPY_MODEL_497129d900724debb5178ba1cba1e356",
              "IPY_MODEL_155aea9d7ab147d5aa58f7a9c06a3d57",
              "IPY_MODEL_aeee254052554e20ac743be68aaa597b"
            ],
            "layout": "IPY_MODEL_ffab408929dc483bb10d40c68602454c"
          }
        },
        "f84379691c714fe794f509856ab2491c": {
          "model_module": "@jupyter-widgets/controls",
          "model_module_version": "1.5.0",
          "model_name": "DescriptionStyleModel",
          "state": {
            "_model_module": "@jupyter-widgets/controls",
            "_model_module_version": "1.5.0",
            "_model_name": "DescriptionStyleModel",
            "_view_count": null,
            "_view_module": "@jupyter-widgets/base",
            "_view_module_version": "1.2.0",
            "_view_name": "StyleView",
            "description_width": ""
          }
        },
        "fce9f89ac3e744eb874d13260b322c84": {
          "model_module": "@jupyter-widgets/controls",
          "model_module_version": "1.5.0",
          "model_name": "FloatProgressModel",
          "state": {
            "_dom_classes": [],
            "_model_module": "@jupyter-widgets/controls",
            "_model_module_version": "1.5.0",
            "_model_name": "FloatProgressModel",
            "_view_count": null,
            "_view_module": "@jupyter-widgets/controls",
            "_view_module_version": "1.5.0",
            "_view_name": "ProgressView",
            "bar_style": "success",
            "description": "",
            "description_tooltip": null,
            "layout": "IPY_MODEL_978689bcc70940588443ee53291a2624",
            "max": 43242972,
            "min": 0,
            "orientation": "horizontal",
            "style": "IPY_MODEL_74e7d4dcaf0a4b1abc8599519d647412",
            "value": 43242972
          }
        },
        "ffab408929dc483bb10d40c68602454c": {
          "model_module": "@jupyter-widgets/base",
          "model_module_version": "1.2.0",
          "model_name": "LayoutModel",
          "state": {
            "_model_module": "@jupyter-widgets/base",
            "_model_module_version": "1.2.0",
            "_model_name": "LayoutModel",
            "_view_count": null,
            "_view_module": "@jupyter-widgets/base",
            "_view_module_version": "1.2.0",
            "_view_name": "LayoutView",
            "align_content": null,
            "align_items": null,
            "align_self": null,
            "border": null,
            "bottom": null,
            "display": null,
            "flex": null,
            "flex_flow": null,
            "grid_area": null,
            "grid_auto_columns": null,
            "grid_auto_flow": null,
            "grid_auto_rows": null,
            "grid_column": null,
            "grid_gap": null,
            "grid_row": null,
            "grid_template_areas": null,
            "grid_template_columns": null,
            "grid_template_rows": null,
            "height": null,
            "justify_content": null,
            "justify_items": null,
            "left": null,
            "margin": null,
            "max_height": null,
            "max_width": null,
            "min_height": null,
            "min_width": null,
            "object_fit": null,
            "object_position": null,
            "order": null,
            "overflow": null,
            "overflow_x": null,
            "overflow_y": null,
            "padding": null,
            "right": null,
            "top": null,
            "visibility": null,
            "width": null
          }
        }
      }
    }
  },
  "nbformat": 4,
  "nbformat_minor": 0
}
